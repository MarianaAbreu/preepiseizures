{
 "cells": [
  {
   "cell_type": "code",
   "execution_count": 6,
   "metadata": {},
   "outputs": [],
   "source": [
    "import numpy as np\n",
    "import pandas as pd\n"
   ]
  },
  {
   "cell_type": "code",
   "execution_count": 2,
   "metadata": {},
   "outputs": [],
   "source": [
    "path = '/Users/saraiva/Desktop/Dados/EpiboxPatients.xlsx'\n",
    "epiboxpatients = pd.read_excel(path, sheet_name='PreEpiSeizures')"
   ]
  },
  {
   "cell_type": "code",
   "execution_count": 3,
   "metadata": {},
   "outputs": [
    {
     "data": {
      "text/plain": [
       "0     FT Tsub\n",
       "1     Tant T \n",
       "2           0\n",
       "3           ?\n",
       "4           ?\n",
       "       ...   \n",
       "69        NaN\n",
       "70        NaN\n",
       "71        NaN\n",
       "72        NaN\n",
       "73        NaN\n",
       "Name: Localisation, Length: 74, dtype: object"
      ]
     },
     "execution_count": 3,
     "metadata": {},
     "output_type": "execute_result"
    }
   ],
   "source": [
    "epiboxpatients['Localisation']"
   ]
  },
  {
   "cell_type": "code",
   "execution_count": 4,
   "metadata": {},
   "outputs": [],
   "source": [
    "temporal = list(filter(lambda x: 'T' in str(x), epiboxpatients['Localisation'].values))\n",
    "frontal = list(filter(lambda x: 'F' in str(x), epiboxpatients['Localisation'].values))\n",
    "parietal = list(filter(lambda x: 'P' in str(x), epiboxpatients['Localisation'].values))\n",
    "occipital = list(filter(lambda x: 'O' in str(x), epiboxpatients['Localisation'].values))\n",
    "unknown = list(filter(lambda x: '?' in str(x), epiboxpatients['Localisation'].values))\n",
    "no_seizure = list(filter(lambda x: '0' in str(x), epiboxpatients['Localisation'].values))"
   ]
  },
  {
   "cell_type": "code",
   "execution_count": 5,
   "metadata": {},
   "outputs": [
    {
     "name": "stdout",
     "output_type": "stream",
     "text": [
      "Temporal 38 \n",
      " Frontal 15 \n",
      " Parietal 11 \n",
      " Occipital 4 \n",
      " Unknown 8 \n",
      " No Seizure 6\n"
     ]
    }
   ],
   "source": [
    "print(f'Temporal {len(temporal)} \\n Frontal {len(frontal)} \\n Parietal {len(parietal)} \\n Occipital {len(occipital)} \\n Unknown {len(unknown)} \\n No Seizure {len(no_seizure)}')"
   ]
  },
  {
   "cell_type": "code",
   "execution_count": 12,
   "metadata": {},
   "outputs": [
    {
     "name": "stdout",
     "output_type": "stream",
     "text": [
      "frontal 25.42 15\n",
      "temporal 64.41 38\n",
      "parietal 18.64 11\n",
      "occipital 6.78 4\n",
      "unknown 13.56 8\n",
      "no_seizure 10.17 6\n"
     ]
    }
   ],
   "source": [
    "dict_ = {'frontal':frontal, 'temporal':temporal, 'parietal':parietal, 'occipital':occipital, 'unknown':unknown, 'no_seizure':no_seizure}\n",
    "\n",
    "for key, value in dict_.items():\n",
    "\n",
    "    print(key, np.round(100*len(value)/59,2), len(value))"
   ]
  },
  {
   "cell_type": "code",
   "execution_count": null,
   "metadata": {},
   "outputs": [],
   "source": []
  }
 ],
 "metadata": {
  "kernelspec": {
   "display_name": "venv",
   "language": "python",
   "name": "python3"
  },
  "language_info": {
   "codemirror_mode": {
    "name": "ipython",
    "version": 3
   },
   "file_extension": ".py",
   "mimetype": "text/x-python",
   "name": "python",
   "nbconvert_exporter": "python",
   "pygments_lexer": "ipython3",
   "version": "3.11.4"
  },
  "orig_nbformat": 4
 },
 "nbformat": 4,
 "nbformat_minor": 2
}
