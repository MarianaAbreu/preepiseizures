{
 "cells": [
  {
   "cell_type": "markdown",
   "metadata": {},
   "source": [
    "## ECG Prediction Algorithm and Evaluation\n",
    "\n",
    "- The algorithm will be patient-specific, and trained with the first 3 seizures of the patient."
   ]
  },
  {
   "cell_type": "code",
   "execution_count": 1,
   "metadata": {},
   "outputs": [],
   "source": [
    "import os\n",
    "\n",
    "import biosppy as bp\n",
    "import biosppy.quality as quality\n",
    "import numpy as np\n",
    "import pandas as pd\n",
    "import matplotlib.pyplot as plt\n",
    "import plotly.express as px\n",
    "import plotly.graph_objects as go\n",
    "from sklearn.preprocessing import MinMaxScaler\n",
    "\n",
    "from preepiseizures.src import Patient, Biosignal, Prediction, biosignal_processing\n",
    "\n",
    "import warnings\n",
    "warnings.filterwarnings(\"ignore\")"
   ]
  },
  {
   "cell_type": "markdown",
   "metadata": {},
   "source": [
    "### 1. Get Patient class and metadata"
   ]
  },
  {
   "cell_type": "code",
   "execution_count": 2,
   "metadata": {},
   "outputs": [
    {
     "data": {
      "text/html": [
       "<div>\n",
       "<style scoped>\n",
       "    .dataframe tbody tr th:only-of-type {\n",
       "        vertical-align: middle;\n",
       "    }\n",
       "\n",
       "    .dataframe tbody tr th {\n",
       "        vertical-align: top;\n",
       "    }\n",
       "\n",
       "    .dataframe thead th {\n",
       "        text-align: right;\n",
       "    }\n",
       "</style>\n",
       "<table border=\"1\" class=\"dataframe\">\n",
       "  <thead>\n",
       "    <tr style=\"text-align: right;\">\n",
       "      <th></th>\n",
       "      <th>Crises</th>\n",
       "      <th>Data</th>\n",
       "      <th>Hora Clínica</th>\n",
       "      <th>Localização</th>\n",
       "      <th>lado</th>\n",
       "      <th>Focal / Generalisada</th>\n",
       "      <th>EDA %</th>\n",
       "      <th>PPG %</th>\n",
       "      <th>Duração (s)</th>\n",
       "      <th>Sono/ Vigília</th>\n",
       "      <th>Tipo</th>\n",
       "      <th>Count</th>\n",
       "      <th>Timestamp</th>\n",
       "    </tr>\n",
       "  </thead>\n",
       "  <tbody>\n",
       "    <tr>\n",
       "      <th>0</th>\n",
       "      <td>Crise 1</td>\n",
       "      <td>2021-04-14</td>\n",
       "      <td>19:59:44</td>\n",
       "      <td>T</td>\n",
       "      <td>L</td>\n",
       "      <td>FIAS</td>\n",
       "      <td>NaN</td>\n",
       "      <td>NaN</td>\n",
       "      <td>57</td>\n",
       "      <td>Vigília</td>\n",
       "      <td>NaN</td>\n",
       "      <td>1</td>\n",
       "      <td>2021-04-14 19:59:44</td>\n",
       "    </tr>\n",
       "    <tr>\n",
       "      <th>1</th>\n",
       "      <td>Crise 2</td>\n",
       "      <td>2021-04-15</td>\n",
       "      <td>02:38:37</td>\n",
       "      <td>T</td>\n",
       "      <td>R</td>\n",
       "      <td>FAS</td>\n",
       "      <td>NaN</td>\n",
       "      <td>NaN</td>\n",
       "      <td>203</td>\n",
       "      <td>Vigília</td>\n",
       "      <td>NaN</td>\n",
       "      <td>2</td>\n",
       "      <td>2021-04-15 02:38:37</td>\n",
       "    </tr>\n",
       "    <tr>\n",
       "      <th>2</th>\n",
       "      <td>Crise 3</td>\n",
       "      <td>2021-04-15</td>\n",
       "      <td>09:34:24</td>\n",
       "      <td>T</td>\n",
       "      <td>R</td>\n",
       "      <td>FAS</td>\n",
       "      <td>NaN</td>\n",
       "      <td>NaN</td>\n",
       "      <td>92</td>\n",
       "      <td>Vigília</td>\n",
       "      <td>NaN</td>\n",
       "      <td>3</td>\n",
       "      <td>2021-04-15 09:34:24</td>\n",
       "    </tr>\n",
       "    <tr>\n",
       "      <th>3</th>\n",
       "      <td>Crise 4</td>\n",
       "      <td>2021-04-15</td>\n",
       "      <td>12:16:14</td>\n",
       "      <td>T</td>\n",
       "      <td>R</td>\n",
       "      <td>FAS</td>\n",
       "      <td>NaN</td>\n",
       "      <td>NaN</td>\n",
       "      <td>19</td>\n",
       "      <td>Vigília</td>\n",
       "      <td>NaN</td>\n",
       "      <td>4</td>\n",
       "      <td>2021-04-15 12:16:14</td>\n",
       "    </tr>\n",
       "    <tr>\n",
       "      <th>4</th>\n",
       "      <td>Crise 5</td>\n",
       "      <td>2021-04-15</td>\n",
       "      <td>14:47:32</td>\n",
       "      <td>T</td>\n",
       "      <td>R</td>\n",
       "      <td>FAS</td>\n",
       "      <td>NaN</td>\n",
       "      <td>NaN</td>\n",
       "      <td>91</td>\n",
       "      <td>Vigília</td>\n",
       "      <td>NaN</td>\n",
       "      <td>5</td>\n",
       "      <td>2021-04-15 14:47:32</td>\n",
       "    </tr>\n",
       "    <tr>\n",
       "      <th>5</th>\n",
       "      <td>Crise 6</td>\n",
       "      <td>2021-04-15</td>\n",
       "      <td>18:25:49</td>\n",
       "      <td>T</td>\n",
       "      <td>R</td>\n",
       "      <td>FAS</td>\n",
       "      <td>NaN</td>\n",
       "      <td>NaN</td>\n",
       "      <td>20</td>\n",
       "      <td>Vigília</td>\n",
       "      <td>NaN</td>\n",
       "      <td>6</td>\n",
       "      <td>2021-04-15 18:25:49</td>\n",
       "    </tr>\n",
       "    <tr>\n",
       "      <th>6</th>\n",
       "      <td>Crise 7</td>\n",
       "      <td>2021-04-16</td>\n",
       "      <td>13:11:26</td>\n",
       "      <td>T</td>\n",
       "      <td>BL</td>\n",
       "      <td>FIAS</td>\n",
       "      <td>NaN</td>\n",
       "      <td>NaN</td>\n",
       "      <td>83</td>\n",
       "      <td>Vigília</td>\n",
       "      <td>NaN</td>\n",
       "      <td>7</td>\n",
       "      <td>2021-04-16 13:11:26</td>\n",
       "    </tr>\n",
       "    <tr>\n",
       "      <th>7</th>\n",
       "      <td>Crise 8</td>\n",
       "      <td>2021-04-16</td>\n",
       "      <td>15:08:26</td>\n",
       "      <td>T</td>\n",
       "      <td>BL</td>\n",
       "      <td>FIAS</td>\n",
       "      <td>NaN</td>\n",
       "      <td>NaN</td>\n",
       "      <td>203</td>\n",
       "      <td>Vigília</td>\n",
       "      <td>NaN</td>\n",
       "      <td>8</td>\n",
       "      <td>2021-04-16 15:08:26</td>\n",
       "    </tr>\n",
       "  </tbody>\n",
       "</table>\n",
       "</div>"
      ],
      "text/plain": [
       "    Crises       Data Hora Clínica Localização lado Focal / Generalisada  \\\n",
       "0  Crise 1 2021-04-14     19:59:44           T    L                 FIAS   \n",
       "1  Crise 2 2021-04-15     02:38:37           T    R                  FAS   \n",
       "2  Crise 3 2021-04-15     09:34:24           T    R                  FAS   \n",
       "3  Crise 4 2021-04-15     12:16:14           T    R                  FAS   \n",
       "4  Crise 5 2021-04-15     14:47:32           T    R                  FAS   \n",
       "5  Crise 6 2021-04-15     18:25:49           T    R                  FAS   \n",
       "6  Crise 7 2021-04-16     13:11:26           T   BL                 FIAS   \n",
       "7  Crise 8 2021-04-16     15:08:26           T   BL                 FIAS   \n",
       "\n",
       "   EDA %  PPG %  Duração (s) Sono/ Vigília  Tipo  Count           Timestamp  \n",
       "0    NaN    NaN           57       Vigília   NaN      1 2021-04-14 19:59:44  \n",
       "1    NaN    NaN          203       Vigília   NaN      2 2021-04-15 02:38:37  \n",
       "2    NaN    NaN           92       Vigília   NaN      3 2021-04-15 09:34:24  \n",
       "3    NaN    NaN           19       Vigília   NaN      4 2021-04-15 12:16:14  \n",
       "4    NaN    NaN           91       Vigília   NaN      5 2021-04-15 14:47:32  \n",
       "5    NaN    NaN           20       Vigília   NaN      6 2021-04-15 18:25:49  \n",
       "6    NaN    NaN           83       Vigília   NaN      7 2021-04-16 13:11:26  \n",
       "7    NaN    NaN          203       Vigília   NaN      8 2021-04-16 15:08:26  "
      ]
     },
     "execution_count": 2,
     "metadata": {},
     "output_type": "execute_result"
    }
   ],
   "source": [
    "patient = 'SYRH'\n",
    "patient_info = Patient.patient_class(patient)\n",
    "patient_info.get_seizure_annotations()\n",
    "patient_info.seizure_table"
   ]
  },
  {
   "cell_type": "code",
   "execution_count": null,
   "metadata": {},
   "outputs": [],
   "source": [
    "# get ECG data\n",
    "\n",
    "sensor = 'ecg'\n",
    "source = 'hospital'\n",
    "device = 'chestbit'\n",
    "biosignal = Biosignal.Biosignal(sensor, device, source)\n",
    "check = biosignal.get_ecg_hospital_data(patient_class=patient_info)\n",
    "if check == 1:\n",
    "    print('ECG data loaded.')\n",
    "else:\n",
    "    print('ECG data not loaded.')\n"
   ]
  },
  {
   "cell_type": "code",
   "execution_count": null,
   "metadata": {},
   "outputs": [],
   "source": [
    "# get data around seizure\n",
    "# onset = patient_info.seizure_table['Timestamp'].iloc[1]\n",
    "all_data = pd.concat([pd.read_parquet(os.path.join('data', 'segments', patient, filename)) for filename in sorted(os.listdir(f'data{os.sep}segments{os.sep}{patient}'))])\n",
    "all_data['datetime'] = all_data.index\n",
    "all_data.set_index('datetime', inplace=True)\n",
    "all_data.head(5)"
   ]
  },
  {
   "cell_type": "code",
   "execution_count": null,
   "metadata": {},
   "outputs": [],
   "source": [
    "all_data['10S'] = all_data.index\n",
    "all_data['10S'] = all_data['10S'].dt.round('10S')"
   ]
  },
  {
   "cell_type": "markdown",
   "metadata": {},
   "source": [
    "# Extract R peaks for all data"
   ]
  },
  {
   "cell_type": "code",
   "execution_count": null,
   "metadata": {},
   "outputs": [],
   "source": [
    "all_data['1H'] = all_data.index\n",
    "all_data['1H'] = all_data['1H'].dt.round('1H')\n",
    "rpeaks = all_data.groupby(by='1H').apply(lambda x: biosignal_processing.get_rpeaks(x))"
   ]
  },
  {
   "cell_type": "code",
   "execution_count": null,
   "metadata": {},
   "outputs": [],
   "source": [
    "all_data['rpeaks'] = 0"
   ]
  },
  {
   "cell_type": "code",
   "execution_count": null,
   "metadata": {},
   "outputs": [],
   "source": [
    "all_data.loc[all_data['1H'] == rpeaks.index[0]].iloc[rpeaks.iloc[0]]['rpeaks'] = 1"
   ]
  },
  {
   "cell_type": "code",
   "execution_count": null,
   "metadata": {},
   "outputs": [],
   "source": [
    "for i in range(len(rpeaks)):\n",
    "    all_data.loc[all_data.loc[all_data['1H'] == rpeaks.index[i]].iloc[rpeaks.iloc[i]].index, 'rpeaks'] = 1"
   ]
  },
  {
   "cell_type": "markdown",
   "metadata": {},
   "source": [
    "# Extract quality level for all data"
   ]
  },
  {
   "cell_type": "code",
   "execution_count": null,
   "metadata": {},
   "outputs": [],
   "source": [
    "quality_points = all_data.groupby(by='10S').apply(lambda x: biosignal_processing.get_ecg_quality(x))"
   ]
  },
  {
   "cell_type": "code",
   "execution_count": null,
   "metadata": {},
   "outputs": [],
   "source": [
    "data_final = all_data.merge(quality_points.rename('quality'), left_on='10S', right_index=True)"
   ]
  },
  {
   "cell_type": "markdown",
   "metadata": {},
   "source": [
    "# Define dataset"
   ]
  },
  {
   "cell_type": "code",
   "execution_count": 5,
   "metadata": {},
   "outputs": [],
   "source": [
    "data_final = pd.read_pickle(os.path.join('data', patient + '_hrv_data.pkl'))\n",
    "data_final.index.name = 'datetime'"
   ]
  },
  {
   "cell_type": "code",
   "execution_count": 9,
   "metadata": {},
   "outputs": [],
   "source": [
    "data_final.index.name = 'datetime'"
   ]
  },
  {
   "cell_type": "code",
   "execution_count": 10,
   "metadata": {},
   "outputs": [
    {
     "name": "stdout",
     "output_type": "stream",
     "text": [
      "Data loaded successfully\n"
     ]
    }
   ],
   "source": [
    "dataset = Prediction.DatasetPred(data=data_final)\n",
    "predictor = Prediction.PredictionEval()\n",
    "dataset_data = dataset.load_data(patient_info=patient_info, data=data_final)"
   ]
  },
  {
   "cell_type": "code",
   "execution_count": 12,
   "metadata": {},
   "outputs": [],
   "source": [
    "annotated_dataset = dataset.annotate_data(data= dataset_data)"
   ]
  },
  {
   "cell_type": "code",
   "execution_count": 13,
   "metadata": {},
   "outputs": [
    {
     "data": {
      "text/html": [
       "<div>\n",
       "<style scoped>\n",
       "    .dataframe tbody tr th:only-of-type {\n",
       "        vertical-align: middle;\n",
       "    }\n",
       "\n",
       "    .dataframe tbody tr th {\n",
       "        vertical-align: top;\n",
       "    }\n",
       "\n",
       "    .dataframe thead th {\n",
       "        text-align: right;\n",
       "    }\n",
       "</style>\n",
       "<table border=\"1\" class=\"dataframe\">\n",
       "  <thead>\n",
       "    <tr style=\"text-align: right;\">\n",
       "      <th></th>\n",
       "      <th>hr_min</th>\n",
       "      <th>hr_max</th>\n",
       "      <th>hr_minmax</th>\n",
       "      <th>rr_min</th>\n",
       "      <th>rr_max</th>\n",
       "      <th>rr_minmax</th>\n",
       "      <th>rr_mean</th>\n",
       "      <th>rr_median</th>\n",
       "      <th>rmssd</th>\n",
       "      <th>nn50</th>\n",
       "      <th>...</th>\n",
       "      <th>hf_nu</th>\n",
       "      <th>s</th>\n",
       "      <th>sd1</th>\n",
       "      <th>sd2</th>\n",
       "      <th>sd12</th>\n",
       "      <th>sd21</th>\n",
       "      <th>sampen</th>\n",
       "      <th>daypart</th>\n",
       "      <th>onset</th>\n",
       "      <th>Y</th>\n",
       "    </tr>\n",
       "    <tr>\n",
       "      <th>datetime</th>\n",
       "      <th></th>\n",
       "      <th></th>\n",
       "      <th></th>\n",
       "      <th></th>\n",
       "      <th></th>\n",
       "      <th></th>\n",
       "      <th></th>\n",
       "      <th></th>\n",
       "      <th></th>\n",
       "      <th></th>\n",
       "      <th></th>\n",
       "      <th></th>\n",
       "      <th></th>\n",
       "      <th></th>\n",
       "      <th></th>\n",
       "      <th></th>\n",
       "      <th></th>\n",
       "      <th></th>\n",
       "      <th></th>\n",
       "      <th></th>\n",
       "      <th></th>\n",
       "    </tr>\n",
       "  </thead>\n",
       "  <tbody>\n",
       "    <tr>\n",
       "      <th>2021-04-12 12:33:32</th>\n",
       "      <td>36.332107</td>\n",
       "      <td>226.257346</td>\n",
       "      <td>189.925239</td>\n",
       "      <td>265.184760</td>\n",
       "      <td>1651.431872</td>\n",
       "      <td>1386.247112</td>\n",
       "      <td>917.194557</td>\n",
       "      <td>937.5</td>\n",
       "      <td>80.080169</td>\n",
       "      <td>28</td>\n",
       "      <td>...</td>\n",
       "      <td>0.343888</td>\n",
       "      <td>23415.658582</td>\n",
       "      <td>56.506496</td>\n",
       "      <td>131.904049</td>\n",
       "      <td>0.428391</td>\n",
       "      <td>2.334317</td>\n",
       "      <td>0.706775</td>\n",
       "      <td>1</td>\n",
       "      <td>0</td>\n",
       "      <td>interictal</td>\n",
       "    </tr>\n",
       "    <tr>\n",
       "      <th>2021-04-12 12:34:32</th>\n",
       "      <td>51.063830</td>\n",
       "      <td>322.834251</td>\n",
       "      <td>271.770422</td>\n",
       "      <td>185.853886</td>\n",
       "      <td>1175.000000</td>\n",
       "      <td>989.146114</td>\n",
       "      <td>902.150111</td>\n",
       "      <td>925.0</td>\n",
       "      <td>61.062142</td>\n",
       "      <td>34</td>\n",
       "      <td>...</td>\n",
       "      <td>0.389991</td>\n",
       "      <td>18741.813028</td>\n",
       "      <td>43.203588</td>\n",
       "      <td>138.083540</td>\n",
       "      <td>0.312880</td>\n",
       "      <td>3.196113</td>\n",
       "      <td>0.706264</td>\n",
       "      <td>1</td>\n",
       "      <td>0</td>\n",
       "      <td>interictal</td>\n",
       "    </tr>\n",
       "    <tr>\n",
       "      <th>2021-04-12 12:35:32</th>\n",
       "      <td>51.063830</td>\n",
       "      <td>322.834251</td>\n",
       "      <td>271.770422</td>\n",
       "      <td>185.853886</td>\n",
       "      <td>1175.000000</td>\n",
       "      <td>989.146114</td>\n",
       "      <td>904.228794</td>\n",
       "      <td>925.0</td>\n",
       "      <td>62.767801</td>\n",
       "      <td>32</td>\n",
       "      <td>...</td>\n",
       "      <td>0.421295</td>\n",
       "      <td>20373.103421</td>\n",
       "      <td>44.409123</td>\n",
       "      <td>146.027659</td>\n",
       "      <td>0.304114</td>\n",
       "      <td>3.288236</td>\n",
       "      <td>0.667651</td>\n",
       "      <td>1</td>\n",
       "      <td>0</td>\n",
       "      <td>interictal</td>\n",
       "    </tr>\n",
       "    <tr>\n",
       "      <th>2021-04-12 12:36:32</th>\n",
       "      <td>51.063830</td>\n",
       "      <td>322.834251</td>\n",
       "      <td>271.770422</td>\n",
       "      <td>185.853886</td>\n",
       "      <td>1175.000000</td>\n",
       "      <td>989.146114</td>\n",
       "      <td>904.635828</td>\n",
       "      <td>925.0</td>\n",
       "      <td>58.590890</td>\n",
       "      <td>28</td>\n",
       "      <td>...</td>\n",
       "      <td>0.394100</td>\n",
       "      <td>18301.090809</td>\n",
       "      <td>41.456512</td>\n",
       "      <td>140.518773</td>\n",
       "      <td>0.295025</td>\n",
       "      <td>3.389546</td>\n",
       "      <td>0.604747</td>\n",
       "      <td>1</td>\n",
       "      <td>0</td>\n",
       "      <td>interictal</td>\n",
       "    </tr>\n",
       "    <tr>\n",
       "      <th>2021-04-12 12:37:32</th>\n",
       "      <td>51.063830</td>\n",
       "      <td>322.834251</td>\n",
       "      <td>271.770422</td>\n",
       "      <td>185.853886</td>\n",
       "      <td>1175.000000</td>\n",
       "      <td>989.146114</td>\n",
       "      <td>885.146537</td>\n",
       "      <td>912.5</td>\n",
       "      <td>67.447288</td>\n",
       "      <td>38</td>\n",
       "      <td>...</td>\n",
       "      <td>0.378132</td>\n",
       "      <td>22683.996632</td>\n",
       "      <td>47.715042</td>\n",
       "      <td>151.326292</td>\n",
       "      <td>0.315312</td>\n",
       "      <td>3.171459</td>\n",
       "      <td>0.639363</td>\n",
       "      <td>1</td>\n",
       "      <td>0</td>\n",
       "      <td>interictal</td>\n",
       "    </tr>\n",
       "    <tr>\n",
       "      <th>...</th>\n",
       "      <td>...</td>\n",
       "      <td>...</td>\n",
       "      <td>...</td>\n",
       "      <td>...</td>\n",
       "      <td>...</td>\n",
       "      <td>...</td>\n",
       "      <td>...</td>\n",
       "      <td>...</td>\n",
       "      <td>...</td>\n",
       "      <td>...</td>\n",
       "      <td>...</td>\n",
       "      <td>...</td>\n",
       "      <td>...</td>\n",
       "      <td>...</td>\n",
       "      <td>...</td>\n",
       "      <td>...</td>\n",
       "      <td>...</td>\n",
       "      <td>...</td>\n",
       "      <td>...</td>\n",
       "      <td>...</td>\n",
       "      <td>...</td>\n",
       "    </tr>\n",
       "    <tr>\n",
       "      <th>2021-04-16 16:20:32</th>\n",
       "      <td>67.605634</td>\n",
       "      <td>81.355932</td>\n",
       "      <td>13.750298</td>\n",
       "      <td>737.500000</td>\n",
       "      <td>887.500000</td>\n",
       "      <td>150.000000</td>\n",
       "      <td>823.904466</td>\n",
       "      <td>825.0</td>\n",
       "      <td>12.264879</td>\n",
       "      <td>0</td>\n",
       "      <td>...</td>\n",
       "      <td>0.163463</td>\n",
       "      <td>1193.253998</td>\n",
       "      <td>8.693537</td>\n",
       "      <td>43.690451</td>\n",
       "      <td>0.198980</td>\n",
       "      <td>5.025624</td>\n",
       "      <td>1.173631</td>\n",
       "      <td>2</td>\n",
       "      <td>0</td>\n",
       "      <td>interictal</td>\n",
       "    </tr>\n",
       "    <tr>\n",
       "      <th>2021-04-16 16:21:32</th>\n",
       "      <td>67.605634</td>\n",
       "      <td>82.758621</td>\n",
       "      <td>15.152987</td>\n",
       "      <td>725.000000</td>\n",
       "      <td>887.500000</td>\n",
       "      <td>162.500000</td>\n",
       "      <td>817.593129</td>\n",
       "      <td>825.0</td>\n",
       "      <td>12.198270</td>\n",
       "      <td>0</td>\n",
       "      <td>...</td>\n",
       "      <td>0.162376</td>\n",
       "      <td>1217.396695</td>\n",
       "      <td>8.643398</td>\n",
       "      <td>44.832996</td>\n",
       "      <td>0.192791</td>\n",
       "      <td>5.186964</td>\n",
       "      <td>1.171615</td>\n",
       "      <td>2</td>\n",
       "      <td>0</td>\n",
       "      <td>interictal</td>\n",
       "    </tr>\n",
       "    <tr>\n",
       "      <th>2021-04-16 16:22:32</th>\n",
       "      <td>67.605634</td>\n",
       "      <td>82.758621</td>\n",
       "      <td>15.152987</td>\n",
       "      <td>725.000000</td>\n",
       "      <td>887.500000</td>\n",
       "      <td>162.500000</td>\n",
       "      <td>818.767123</td>\n",
       "      <td>825.0</td>\n",
       "      <td>11.687253</td>\n",
       "      <td>0</td>\n",
       "      <td>...</td>\n",
       "      <td>0.163941</td>\n",
       "      <td>1099.131670</td>\n",
       "      <td>8.287277</td>\n",
       "      <td>42.217061</td>\n",
       "      <td>0.196302</td>\n",
       "      <td>5.094202</td>\n",
       "      <td>1.049379</td>\n",
       "      <td>2</td>\n",
       "      <td>0</td>\n",
       "      <td>interictal</td>\n",
       "    </tr>\n",
       "    <tr>\n",
       "      <th>2021-04-16 16:23:32</th>\n",
       "      <td>66.666667</td>\n",
       "      <td>87.272727</td>\n",
       "      <td>20.606061</td>\n",
       "      <td>687.500000</td>\n",
       "      <td>900.000000</td>\n",
       "      <td>212.500000</td>\n",
       "      <td>815.563099</td>\n",
       "      <td>825.0</td>\n",
       "      <td>12.957458</td>\n",
       "      <td>2</td>\n",
       "      <td>...</td>\n",
       "      <td>0.192408</td>\n",
       "      <td>1730.526776</td>\n",
       "      <td>9.203698</td>\n",
       "      <td>59.850264</td>\n",
       "      <td>0.153779</td>\n",
       "      <td>6.502849</td>\n",
       "      <td>1.166181</td>\n",
       "      <td>2</td>\n",
       "      <td>0</td>\n",
       "      <td>interictal</td>\n",
       "    </tr>\n",
       "    <tr>\n",
       "      <th>2021-04-16 16:24:32</th>\n",
       "      <td>66.666667</td>\n",
       "      <td>111.627907</td>\n",
       "      <td>44.961240</td>\n",
       "      <td>537.500000</td>\n",
       "      <td>900.000000</td>\n",
       "      <td>362.500000</td>\n",
       "      <td>802.296679</td>\n",
       "      <td>812.5</td>\n",
       "      <td>21.818548</td>\n",
       "      <td>8</td>\n",
       "      <td>...</td>\n",
       "      <td>0.293619</td>\n",
       "      <td>3091.903877</td>\n",
       "      <td>15.448749</td>\n",
       "      <td>63.706361</td>\n",
       "      <td>0.242499</td>\n",
       "      <td>4.123723</td>\n",
       "      <td>1.089857</td>\n",
       "      <td>2</td>\n",
       "      <td>0</td>\n",
       "      <td>interictal</td>\n",
       "    </tr>\n",
       "  </tbody>\n",
       "</table>\n",
       "<p>5750 rows × 33 columns</p>\n",
       "</div>"
      ],
      "text/plain": [
       "                        hr_min      hr_max   hr_minmax      rr_min  \\\n",
       "datetime                                                             \n",
       "2021-04-12 12:33:32  36.332107  226.257346  189.925239  265.184760   \n",
       "2021-04-12 12:34:32  51.063830  322.834251  271.770422  185.853886   \n",
       "2021-04-12 12:35:32  51.063830  322.834251  271.770422  185.853886   \n",
       "2021-04-12 12:36:32  51.063830  322.834251  271.770422  185.853886   \n",
       "2021-04-12 12:37:32  51.063830  322.834251  271.770422  185.853886   \n",
       "...                        ...         ...         ...         ...   \n",
       "2021-04-16 16:20:32  67.605634   81.355932   13.750298  737.500000   \n",
       "2021-04-16 16:21:32  67.605634   82.758621   15.152987  725.000000   \n",
       "2021-04-16 16:22:32  67.605634   82.758621   15.152987  725.000000   \n",
       "2021-04-16 16:23:32  66.666667   87.272727   20.606061  687.500000   \n",
       "2021-04-16 16:24:32  66.666667  111.627907   44.961240  537.500000   \n",
       "\n",
       "                          rr_max    rr_minmax     rr_mean  rr_median  \\\n",
       "datetime                                                               \n",
       "2021-04-12 12:33:32  1651.431872  1386.247112  917.194557      937.5   \n",
       "2021-04-12 12:34:32  1175.000000   989.146114  902.150111      925.0   \n",
       "2021-04-12 12:35:32  1175.000000   989.146114  904.228794      925.0   \n",
       "2021-04-12 12:36:32  1175.000000   989.146114  904.635828      925.0   \n",
       "2021-04-12 12:37:32  1175.000000   989.146114  885.146537      912.5   \n",
       "...                          ...          ...         ...        ...   \n",
       "2021-04-16 16:20:32   887.500000   150.000000  823.904466      825.0   \n",
       "2021-04-16 16:21:32   887.500000   162.500000  817.593129      825.0   \n",
       "2021-04-16 16:22:32   887.500000   162.500000  818.767123      825.0   \n",
       "2021-04-16 16:23:32   900.000000   212.500000  815.563099      825.0   \n",
       "2021-04-16 16:24:32   900.000000   362.500000  802.296679      812.5   \n",
       "\n",
       "                         rmssd  nn50  ...     hf_nu             s        sd1  \\\n",
       "datetime                              ...                                      \n",
       "2021-04-12 12:33:32  80.080169    28  ...  0.343888  23415.658582  56.506496   \n",
       "2021-04-12 12:34:32  61.062142    34  ...  0.389991  18741.813028  43.203588   \n",
       "2021-04-12 12:35:32  62.767801    32  ...  0.421295  20373.103421  44.409123   \n",
       "2021-04-12 12:36:32  58.590890    28  ...  0.394100  18301.090809  41.456512   \n",
       "2021-04-12 12:37:32  67.447288    38  ...  0.378132  22683.996632  47.715042   \n",
       "...                        ...   ...  ...       ...           ...        ...   \n",
       "2021-04-16 16:20:32  12.264879     0  ...  0.163463   1193.253998   8.693537   \n",
       "2021-04-16 16:21:32  12.198270     0  ...  0.162376   1217.396695   8.643398   \n",
       "2021-04-16 16:22:32  11.687253     0  ...  0.163941   1099.131670   8.287277   \n",
       "2021-04-16 16:23:32  12.957458     2  ...  0.192408   1730.526776   9.203698   \n",
       "2021-04-16 16:24:32  21.818548     8  ...  0.293619   3091.903877  15.448749   \n",
       "\n",
       "                            sd2      sd12      sd21    sampen  daypart  onset  \\\n",
       "datetime                                                                        \n",
       "2021-04-12 12:33:32  131.904049  0.428391  2.334317  0.706775        1      0   \n",
       "2021-04-12 12:34:32  138.083540  0.312880  3.196113  0.706264        1      0   \n",
       "2021-04-12 12:35:32  146.027659  0.304114  3.288236  0.667651        1      0   \n",
       "2021-04-12 12:36:32  140.518773  0.295025  3.389546  0.604747        1      0   \n",
       "2021-04-12 12:37:32  151.326292  0.315312  3.171459  0.639363        1      0   \n",
       "...                         ...       ...       ...       ...      ...    ...   \n",
       "2021-04-16 16:20:32   43.690451  0.198980  5.025624  1.173631        2      0   \n",
       "2021-04-16 16:21:32   44.832996  0.192791  5.186964  1.171615        2      0   \n",
       "2021-04-16 16:22:32   42.217061  0.196302  5.094202  1.049379        2      0   \n",
       "2021-04-16 16:23:32   59.850264  0.153779  6.502849  1.166181        2      0   \n",
       "2021-04-16 16:24:32   63.706361  0.242499  4.123723  1.089857        2      0   \n",
       "\n",
       "                              Y  \n",
       "datetime                         \n",
       "2021-04-12 12:33:32  interictal  \n",
       "2021-04-12 12:34:32  interictal  \n",
       "2021-04-12 12:35:32  interictal  \n",
       "2021-04-12 12:36:32  interictal  \n",
       "2021-04-12 12:37:32  interictal  \n",
       "...                         ...  \n",
       "2021-04-16 16:20:32  interictal  \n",
       "2021-04-16 16:21:32  interictal  \n",
       "2021-04-16 16:22:32  interictal  \n",
       "2021-04-16 16:23:32  interictal  \n",
       "2021-04-16 16:24:32  interictal  \n",
       "\n",
       "[5750 rows x 33 columns]"
      ]
     },
     "execution_count": 13,
     "metadata": {},
     "output_type": "execute_result"
    }
   ],
   "source": [
    "annotated_dataset"
   ]
  },
  {
   "cell_type": "code",
   "execution_count": 14,
   "metadata": {},
   "outputs": [
    {
     "name": "stdout",
     "output_type": "stream",
     "text": [
      "The whole dataset contains 7 seizures\n"
     ]
    }
   ],
   "source": [
    "x_train, x_test = dataset.train_test_split(annotated_dataset, train_sz = 4)"
   ]
  },
  {
   "cell_type": "code",
   "execution_count": 15,
   "metadata": {},
   "outputs": [
    {
     "data": {
      "application/vnd.plotly.v1+json": {
       "config": {
        "plotlyServerURL": "https://plot.ly"
       },
       "data": [
        {
         "hovertemplate": "datetime=%{x}<br>onset=%{y}<extra></extra>",
         "legendgroup": "",
         "marker": {
          "color": "#636efa",
          "symbol": "circle"
         },
         "mode": "markers",
         "name": "",
         "orientation": "v",
         "showlegend": false,
         "type": "scatter",
         "x": [
          "2021-04-14T19:14:32",
          "2021-04-14T19:15:32",
          "2021-04-14T19:16:32",
          "2021-04-14T19:17:32",
          "2021-04-14T19:18:32",
          "2021-04-14T19:19:32",
          "2021-04-14T19:20:32",
          "2021-04-14T19:21:32",
          "2021-04-14T19:22:32",
          "2021-04-14T19:23:32",
          "2021-04-14T19:24:32",
          "2021-04-14T19:25:32",
          "2021-04-14T19:26:32",
          "2021-04-14T19:27:32",
          "2021-04-14T19:28:32",
          "2021-04-14T19:29:32",
          "2021-04-14T19:30:32",
          "2021-04-14T19:31:32",
          "2021-04-14T19:32:32",
          "2021-04-14T19:33:32",
          "2021-04-14T19:34:32",
          "2021-04-14T19:35:32",
          "2021-04-14T19:36:32",
          "2021-04-14T19:37:32",
          "2021-04-14T19:38:32",
          "2021-04-14T19:39:32",
          "2021-04-14T19:40:32",
          "2021-04-14T19:41:32",
          "2021-04-14T19:42:32",
          "2021-04-14T19:43:32",
          "2021-04-15T01:53:32",
          "2021-04-15T01:54:32",
          "2021-04-15T01:55:32",
          "2021-04-15T01:56:32",
          "2021-04-15T01:57:32",
          "2021-04-15T01:58:32",
          "2021-04-15T01:59:32",
          "2021-04-15T02:00:32",
          "2021-04-15T02:01:32",
          "2021-04-15T02:02:32",
          "2021-04-15T02:03:32",
          "2021-04-15T02:04:32",
          "2021-04-15T02:05:32",
          "2021-04-15T02:06:32",
          "2021-04-15T02:07:32",
          "2021-04-15T02:08:32",
          "2021-04-15T02:09:32",
          "2021-04-15T02:15:32",
          "2021-04-15T02:17:32",
          "2021-04-15T02:18:32",
          "2021-04-15T02:19:32",
          "2021-04-15T02:20:32",
          "2021-04-15T02:21:32",
          "2021-04-15T02:22:32",
          "2021-04-15T08:49:32",
          "2021-04-15T08:50:32",
          "2021-04-15T08:51:32",
          "2021-04-15T08:52:32",
          "2021-04-15T08:53:32",
          "2021-04-15T08:54:32",
          "2021-04-15T08:55:32",
          "2021-04-15T08:56:32",
          "2021-04-15T08:57:32",
          "2021-04-15T08:58:32",
          "2021-04-15T08:59:32",
          "2021-04-15T09:00:32",
          "2021-04-15T09:05:32",
          "2021-04-15T09:06:32",
          "2021-04-15T09:07:32",
          "2021-04-15T09:08:32",
          "2021-04-15T09:09:32",
          "2021-04-15T09:10:32",
          "2021-04-15T09:11:32",
          "2021-04-15T09:12:32",
          "2021-04-15T09:13:32",
          "2021-04-15T09:14:32",
          "2021-04-15T09:15:32",
          "2021-04-15T09:16:32",
          "2021-04-15T09:17:32",
          "2021-04-15T09:18:32",
          "2021-04-15T11:31:32",
          "2021-04-15T11:32:32",
          "2021-04-15T11:33:32",
          "2021-04-15T11:34:32",
          "2021-04-15T11:35:32",
          "2021-04-15T11:36:32",
          "2021-04-15T11:37:32",
          "2021-04-15T11:38:32",
          "2021-04-15T11:39:32",
          "2021-04-15T11:40:32",
          "2021-04-15T11:41:32",
          "2021-04-15T11:42:32",
          "2021-04-15T11:43:32",
          "2021-04-15T11:44:32",
          "2021-04-15T11:45:32",
          "2021-04-15T11:46:32",
          "2021-04-15T11:47:32",
          "2021-04-15T11:48:32",
          "2021-04-15T11:49:32",
          "2021-04-15T11:50:32",
          "2021-04-15T11:51:32",
          "2021-04-15T11:52:32",
          "2021-04-15T11:53:32",
          "2021-04-15T11:54:32",
          "2021-04-15T11:55:32",
          "2021-04-15T11:56:32",
          "2021-04-15T11:57:32",
          "2021-04-15T11:58:32",
          "2021-04-15T11:59:32",
          "2021-04-15T12:00:32"
         ],
         "xaxis": "x",
         "y": [
          0,
          0,
          0,
          0,
          0,
          0,
          0,
          0,
          0,
          0,
          0,
          0,
          0,
          0,
          0,
          0,
          0,
          0,
          0,
          0,
          0,
          0,
          0,
          0,
          0,
          0,
          0,
          0,
          0,
          0,
          0,
          0,
          0,
          0,
          0,
          0,
          0,
          0,
          0,
          0,
          0,
          0,
          0,
          0,
          0,
          0,
          0,
          0,
          0,
          0,
          0,
          0,
          0,
          0,
          0,
          0,
          0,
          0,
          0,
          0,
          0,
          0,
          0,
          0,
          0,
          0,
          0,
          0,
          0,
          0,
          0,
          0,
          0,
          0,
          0,
          0,
          0,
          0,
          0,
          0,
          0,
          0,
          0,
          0,
          0,
          0,
          0,
          0,
          0,
          0,
          0,
          0,
          0,
          0,
          0,
          0,
          0,
          0,
          0,
          0,
          0,
          0,
          0,
          0,
          0,
          0,
          0,
          0,
          0,
          0
         ],
         "yaxis": "y"
        }
       ],
       "layout": {
        "legend": {
         "tracegroupgap": 0
        },
        "shapes": [
         {
          "line": {
           "color": "green",
           "dash": "dash",
           "width": 3
          },
          "type": "line",
          "x0": "2021-04-14T19:59:32",
          "x1": "2021-04-14T19:59:32",
          "xref": "x",
          "y0": 0,
          "y1": 1,
          "yref": "y domain"
         },
         {
          "line": {
           "color": "green",
           "dash": "dash",
           "width": 3
          },
          "type": "line",
          "x0": "2021-04-15T02:38:32",
          "x1": "2021-04-15T02:38:32",
          "xref": "x",
          "y0": 0,
          "y1": 1,
          "yref": "y domain"
         },
         {
          "line": {
           "color": "green",
           "dash": "dash",
           "width": 3
          },
          "type": "line",
          "x0": "2021-04-15T09:34:32",
          "x1": "2021-04-15T09:34:32",
          "xref": "x",
          "y0": 0,
          "y1": 1,
          "yref": "y domain"
         },
         {
          "line": {
           "color": "green",
           "dash": "dash",
           "width": 3
          },
          "type": "line",
          "x0": "2021-04-15T12:16:32",
          "x1": "2021-04-15T12:16:32",
          "xref": "x",
          "y0": 0,
          "y1": 1,
          "yref": "y domain"
         }
        ],
        "template": {
         "data": {
          "bar": [
           {
            "error_x": {
             "color": "#2a3f5f"
            },
            "error_y": {
             "color": "#2a3f5f"
            },
            "marker": {
             "line": {
              "color": "#E5ECF6",
              "width": 0.5
             },
             "pattern": {
              "fillmode": "overlay",
              "size": 10,
              "solidity": 0.2
             }
            },
            "type": "bar"
           }
          ],
          "barpolar": [
           {
            "marker": {
             "line": {
              "color": "#E5ECF6",
              "width": 0.5
             },
             "pattern": {
              "fillmode": "overlay",
              "size": 10,
              "solidity": 0.2
             }
            },
            "type": "barpolar"
           }
          ],
          "carpet": [
           {
            "aaxis": {
             "endlinecolor": "#2a3f5f",
             "gridcolor": "white",
             "linecolor": "white",
             "minorgridcolor": "white",
             "startlinecolor": "#2a3f5f"
            },
            "baxis": {
             "endlinecolor": "#2a3f5f",
             "gridcolor": "white",
             "linecolor": "white",
             "minorgridcolor": "white",
             "startlinecolor": "#2a3f5f"
            },
            "type": "carpet"
           }
          ],
          "choropleth": [
           {
            "colorbar": {
             "outlinewidth": 0,
             "ticks": ""
            },
            "type": "choropleth"
           }
          ],
          "contour": [
           {
            "colorbar": {
             "outlinewidth": 0,
             "ticks": ""
            },
            "colorscale": [
             [
              0,
              "#0d0887"
             ],
             [
              0.1111111111111111,
              "#46039f"
             ],
             [
              0.2222222222222222,
              "#7201a8"
             ],
             [
              0.3333333333333333,
              "#9c179e"
             ],
             [
              0.4444444444444444,
              "#bd3786"
             ],
             [
              0.5555555555555556,
              "#d8576b"
             ],
             [
              0.6666666666666666,
              "#ed7953"
             ],
             [
              0.7777777777777778,
              "#fb9f3a"
             ],
             [
              0.8888888888888888,
              "#fdca26"
             ],
             [
              1,
              "#f0f921"
             ]
            ],
            "type": "contour"
           }
          ],
          "contourcarpet": [
           {
            "colorbar": {
             "outlinewidth": 0,
             "ticks": ""
            },
            "type": "contourcarpet"
           }
          ],
          "heatmap": [
           {
            "colorbar": {
             "outlinewidth": 0,
             "ticks": ""
            },
            "colorscale": [
             [
              0,
              "#0d0887"
             ],
             [
              0.1111111111111111,
              "#46039f"
             ],
             [
              0.2222222222222222,
              "#7201a8"
             ],
             [
              0.3333333333333333,
              "#9c179e"
             ],
             [
              0.4444444444444444,
              "#bd3786"
             ],
             [
              0.5555555555555556,
              "#d8576b"
             ],
             [
              0.6666666666666666,
              "#ed7953"
             ],
             [
              0.7777777777777778,
              "#fb9f3a"
             ],
             [
              0.8888888888888888,
              "#fdca26"
             ],
             [
              1,
              "#f0f921"
             ]
            ],
            "type": "heatmap"
           }
          ],
          "heatmapgl": [
           {
            "colorbar": {
             "outlinewidth": 0,
             "ticks": ""
            },
            "colorscale": [
             [
              0,
              "#0d0887"
             ],
             [
              0.1111111111111111,
              "#46039f"
             ],
             [
              0.2222222222222222,
              "#7201a8"
             ],
             [
              0.3333333333333333,
              "#9c179e"
             ],
             [
              0.4444444444444444,
              "#bd3786"
             ],
             [
              0.5555555555555556,
              "#d8576b"
             ],
             [
              0.6666666666666666,
              "#ed7953"
             ],
             [
              0.7777777777777778,
              "#fb9f3a"
             ],
             [
              0.8888888888888888,
              "#fdca26"
             ],
             [
              1,
              "#f0f921"
             ]
            ],
            "type": "heatmapgl"
           }
          ],
          "histogram": [
           {
            "marker": {
             "pattern": {
              "fillmode": "overlay",
              "size": 10,
              "solidity": 0.2
             }
            },
            "type": "histogram"
           }
          ],
          "histogram2d": [
           {
            "colorbar": {
             "outlinewidth": 0,
             "ticks": ""
            },
            "colorscale": [
             [
              0,
              "#0d0887"
             ],
             [
              0.1111111111111111,
              "#46039f"
             ],
             [
              0.2222222222222222,
              "#7201a8"
             ],
             [
              0.3333333333333333,
              "#9c179e"
             ],
             [
              0.4444444444444444,
              "#bd3786"
             ],
             [
              0.5555555555555556,
              "#d8576b"
             ],
             [
              0.6666666666666666,
              "#ed7953"
             ],
             [
              0.7777777777777778,
              "#fb9f3a"
             ],
             [
              0.8888888888888888,
              "#fdca26"
             ],
             [
              1,
              "#f0f921"
             ]
            ],
            "type": "histogram2d"
           }
          ],
          "histogram2dcontour": [
           {
            "colorbar": {
             "outlinewidth": 0,
             "ticks": ""
            },
            "colorscale": [
             [
              0,
              "#0d0887"
             ],
             [
              0.1111111111111111,
              "#46039f"
             ],
             [
              0.2222222222222222,
              "#7201a8"
             ],
             [
              0.3333333333333333,
              "#9c179e"
             ],
             [
              0.4444444444444444,
              "#bd3786"
             ],
             [
              0.5555555555555556,
              "#d8576b"
             ],
             [
              0.6666666666666666,
              "#ed7953"
             ],
             [
              0.7777777777777778,
              "#fb9f3a"
             ],
             [
              0.8888888888888888,
              "#fdca26"
             ],
             [
              1,
              "#f0f921"
             ]
            ],
            "type": "histogram2dcontour"
           }
          ],
          "mesh3d": [
           {
            "colorbar": {
             "outlinewidth": 0,
             "ticks": ""
            },
            "type": "mesh3d"
           }
          ],
          "parcoords": [
           {
            "line": {
             "colorbar": {
              "outlinewidth": 0,
              "ticks": ""
             }
            },
            "type": "parcoords"
           }
          ],
          "pie": [
           {
            "automargin": true,
            "type": "pie"
           }
          ],
          "scatter": [
           {
            "fillpattern": {
             "fillmode": "overlay",
             "size": 10,
             "solidity": 0.2
            },
            "type": "scatter"
           }
          ],
          "scatter3d": [
           {
            "line": {
             "colorbar": {
              "outlinewidth": 0,
              "ticks": ""
             }
            },
            "marker": {
             "colorbar": {
              "outlinewidth": 0,
              "ticks": ""
             }
            },
            "type": "scatter3d"
           }
          ],
          "scattercarpet": [
           {
            "marker": {
             "colorbar": {
              "outlinewidth": 0,
              "ticks": ""
             }
            },
            "type": "scattercarpet"
           }
          ],
          "scattergeo": [
           {
            "marker": {
             "colorbar": {
              "outlinewidth": 0,
              "ticks": ""
             }
            },
            "type": "scattergeo"
           }
          ],
          "scattergl": [
           {
            "marker": {
             "colorbar": {
              "outlinewidth": 0,
              "ticks": ""
             }
            },
            "type": "scattergl"
           }
          ],
          "scattermapbox": [
           {
            "marker": {
             "colorbar": {
              "outlinewidth": 0,
              "ticks": ""
             }
            },
            "type": "scattermapbox"
           }
          ],
          "scatterpolar": [
           {
            "marker": {
             "colorbar": {
              "outlinewidth": 0,
              "ticks": ""
             }
            },
            "type": "scatterpolar"
           }
          ],
          "scatterpolargl": [
           {
            "marker": {
             "colorbar": {
              "outlinewidth": 0,
              "ticks": ""
             }
            },
            "type": "scatterpolargl"
           }
          ],
          "scatterternary": [
           {
            "marker": {
             "colorbar": {
              "outlinewidth": 0,
              "ticks": ""
             }
            },
            "type": "scatterternary"
           }
          ],
          "surface": [
           {
            "colorbar": {
             "outlinewidth": 0,
             "ticks": ""
            },
            "colorscale": [
             [
              0,
              "#0d0887"
             ],
             [
              0.1111111111111111,
              "#46039f"
             ],
             [
              0.2222222222222222,
              "#7201a8"
             ],
             [
              0.3333333333333333,
              "#9c179e"
             ],
             [
              0.4444444444444444,
              "#bd3786"
             ],
             [
              0.5555555555555556,
              "#d8576b"
             ],
             [
              0.6666666666666666,
              "#ed7953"
             ],
             [
              0.7777777777777778,
              "#fb9f3a"
             ],
             [
              0.8888888888888888,
              "#fdca26"
             ],
             [
              1,
              "#f0f921"
             ]
            ],
            "type": "surface"
           }
          ],
          "table": [
           {
            "cells": {
             "fill": {
              "color": "#EBF0F8"
             },
             "line": {
              "color": "white"
             }
            },
            "header": {
             "fill": {
              "color": "#C8D4E3"
             },
             "line": {
              "color": "white"
             }
            },
            "type": "table"
           }
          ]
         },
         "layout": {
          "annotationdefaults": {
           "arrowcolor": "#2a3f5f",
           "arrowhead": 0,
           "arrowwidth": 1
          },
          "autotypenumbers": "strict",
          "coloraxis": {
           "colorbar": {
            "outlinewidth": 0,
            "ticks": ""
           }
          },
          "colorscale": {
           "diverging": [
            [
             0,
             "#8e0152"
            ],
            [
             0.1,
             "#c51b7d"
            ],
            [
             0.2,
             "#de77ae"
            ],
            [
             0.3,
             "#f1b6da"
            ],
            [
             0.4,
             "#fde0ef"
            ],
            [
             0.5,
             "#f7f7f7"
            ],
            [
             0.6,
             "#e6f5d0"
            ],
            [
             0.7,
             "#b8e186"
            ],
            [
             0.8,
             "#7fbc41"
            ],
            [
             0.9,
             "#4d9221"
            ],
            [
             1,
             "#276419"
            ]
           ],
           "sequential": [
            [
             0,
             "#0d0887"
            ],
            [
             0.1111111111111111,
             "#46039f"
            ],
            [
             0.2222222222222222,
             "#7201a8"
            ],
            [
             0.3333333333333333,
             "#9c179e"
            ],
            [
             0.4444444444444444,
             "#bd3786"
            ],
            [
             0.5555555555555556,
             "#d8576b"
            ],
            [
             0.6666666666666666,
             "#ed7953"
            ],
            [
             0.7777777777777778,
             "#fb9f3a"
            ],
            [
             0.8888888888888888,
             "#fdca26"
            ],
            [
             1,
             "#f0f921"
            ]
           ],
           "sequentialminus": [
            [
             0,
             "#0d0887"
            ],
            [
             0.1111111111111111,
             "#46039f"
            ],
            [
             0.2222222222222222,
             "#7201a8"
            ],
            [
             0.3333333333333333,
             "#9c179e"
            ],
            [
             0.4444444444444444,
             "#bd3786"
            ],
            [
             0.5555555555555556,
             "#d8576b"
            ],
            [
             0.6666666666666666,
             "#ed7953"
            ],
            [
             0.7777777777777778,
             "#fb9f3a"
            ],
            [
             0.8888888888888888,
             "#fdca26"
            ],
            [
             1,
             "#f0f921"
            ]
           ]
          },
          "colorway": [
           "#636efa",
           "#EF553B",
           "#00cc96",
           "#ab63fa",
           "#FFA15A",
           "#19d3f3",
           "#FF6692",
           "#B6E880",
           "#FF97FF",
           "#FECB52"
          ],
          "font": {
           "color": "#2a3f5f"
          },
          "geo": {
           "bgcolor": "white",
           "lakecolor": "white",
           "landcolor": "#E5ECF6",
           "showlakes": true,
           "showland": true,
           "subunitcolor": "white"
          },
          "hoverlabel": {
           "align": "left"
          },
          "hovermode": "closest",
          "mapbox": {
           "style": "light"
          },
          "paper_bgcolor": "white",
          "plot_bgcolor": "#E5ECF6",
          "polar": {
           "angularaxis": {
            "gridcolor": "white",
            "linecolor": "white",
            "ticks": ""
           },
           "bgcolor": "#E5ECF6",
           "radialaxis": {
            "gridcolor": "white",
            "linecolor": "white",
            "ticks": ""
           }
          },
          "scene": {
           "xaxis": {
            "backgroundcolor": "#E5ECF6",
            "gridcolor": "white",
            "gridwidth": 2,
            "linecolor": "white",
            "showbackground": true,
            "ticks": "",
            "zerolinecolor": "white"
           },
           "yaxis": {
            "backgroundcolor": "#E5ECF6",
            "gridcolor": "white",
            "gridwidth": 2,
            "linecolor": "white",
            "showbackground": true,
            "ticks": "",
            "zerolinecolor": "white"
           },
           "zaxis": {
            "backgroundcolor": "#E5ECF6",
            "gridcolor": "white",
            "gridwidth": 2,
            "linecolor": "white",
            "showbackground": true,
            "ticks": "",
            "zerolinecolor": "white"
           }
          },
          "shapedefaults": {
           "line": {
            "color": "#2a3f5f"
           }
          },
          "ternary": {
           "aaxis": {
            "gridcolor": "white",
            "linecolor": "white",
            "ticks": ""
           },
           "baxis": {
            "gridcolor": "white",
            "linecolor": "white",
            "ticks": ""
           },
           "bgcolor": "#E5ECF6",
           "caxis": {
            "gridcolor": "white",
            "linecolor": "white",
            "ticks": ""
           }
          },
          "title": {
           "x": 0.05
          },
          "xaxis": {
           "automargin": true,
           "gridcolor": "white",
           "linecolor": "white",
           "ticks": "",
           "title": {
            "standoff": 15
           },
           "zerolinecolor": "white",
           "zerolinewidth": 2
          },
          "yaxis": {
           "automargin": true,
           "gridcolor": "white",
           "linecolor": "white",
           "ticks": "",
           "title": {
            "standoff": 15
           },
           "zerolinecolor": "white",
           "zerolinewidth": 2
          }
         }
        },
        "title": {
         "text": "ECG data Train"
        },
        "xaxis": {
         "anchor": "y",
         "domain": [
          0,
          1
         ],
         "title": {
          "text": "datetime"
         }
        },
        "yaxis": {
         "anchor": "x",
         "domain": [
          0,
          1
         ],
         "title": {
          "text": "onset"
         }
        }
       }
      }
     },
     "metadata": {},
     "output_type": "display_data"
    }
   ],
   "source": [
    "fig = px.scatter(x_train.loc[x_train['Y']=='preictal'], y=\"onset\", title='ECG data Train')\n",
    "for onset in x_train['onset'].drop_duplicates().iloc[1:].index:\n",
    "    fig.add_vline(x=onset, line_width=3, line_dash=\"dash\", line_color=\"green\")\n",
    "fig.show()"
   ]
  },
  {
   "cell_type": "code",
   "execution_count": null,
   "metadata": {},
   "outputs": [],
   "source": [
    "# TRAINING\n",
    "x_train_preictal = dataset.remove_periods_data(data=x_train)\n",
    "\n",
    "\n",
    "filepath = os.path.join('data', patient + '_hrv_train.pkl')\n",
    "\n",
    "# get hrv\n",
    "if os.path.exists(filepath):\n",
    "    x_train_new = pd.read_pickle(filepath)\n",
    "else:\n",
    "    hrv_train = biosignal_processing.get_hrv_for_data(data=x_train_preictal, sampling_rate=80)\n",
    "    # most relevant features\n",
    "    corr_matrix = hrv_train.corr().abs()\n",
    "    upper = corr_matrix.where(np.triu(np.ones(corr_matrix.shape), k=1).astype(bool))\n",
    "\n",
    "    # Find features with correlation greater than 0.95\n",
    "    to_drop = [column for column in upper.columns if any(upper[column] > 0.95)]\n",
    "    print(f'Dropping {len(to_drop)} features from {corr_matrix.shape[1]}.')\n",
    "    print(to_drop)\n",
    "    new_training_set = hrv_train.drop(columns=to_drop)\n",
    "\n",
    "    # normalization\n",
    "\n",
    "    scaler = MinMaxScaler()\n",
    "    scaler.fit(hrv_train)\n",
    "    hrv_train_scaled = scaler.transform(hrv_train)\n",
    "    x_train_new = pd.DataFrame(hrv_train_scaled, index=hrv_train.index, columns=hrv_train.columns)\n",
    "    x_train_new.to_pickle(filepath)\n"
   ]
  },
  {
   "cell_type": "code",
   "execution_count": null,
   "metadata": {},
   "outputs": [],
   "source": [
    "x_train_preictal.reset_index(inplace=True)\n",
    "x_train_preictal['sec'] = x_train_preictal['datetime'].dt.round('1S')\n",
    "x_train_preictal.set_index('datetime', inplace=True)\n",
    "x_train_preictal[['Y', 'sec']].drop_duplicates()"
   ]
  },
  {
   "cell_type": "code",
   "execution_count": null,
   "metadata": {},
   "outputs": [],
   "source": [
    "y_true = x_train_preictal[['Y', 'sec']].drop_duplicates()\n",
    "y_true.set_index('sec', inplace=True)\n",
    "x_train_new['Y'] = y_true.loc[x_train_new.index, 'Y'].copy()\n"
   ]
  },
  {
   "cell_type": "code",
   "execution_count": null,
   "metadata": {},
   "outputs": [],
   "source": [
    "fig = px.scatter(x_train_new, color='Y', y=\"rr_mean\", title='ECG data Train')\n",
    "for onset in patient_info.seizure_table['Timestamp']:\n",
    "    fig.add_vline(x=onset, line_width=3, line_dash=\"dash\", line_color=\"green\")\n",
    "fig.show()"
   ]
  },
  {
   "cell_type": "code",
   "execution_count": null,
   "metadata": {},
   "outputs": [],
   "source": [
    "x_train_final = x_train_new.loc[x_train_new['Y'] != 'removefromtrain'].copy()"
   ]
  },
  {
   "cell_type": "code",
   "execution_count": null,
   "metadata": {},
   "outputs": [],
   "source": [
    "# x test data preparation\n",
    "# test data will be the last seizures\n",
    "# TRAINING\n",
    "\n",
    "filepath = os.path.join('data', patient + '_hrv_test.pkl')\n",
    "\n",
    "# get hrv\n",
    "if os.path.exists(filepath):\n",
    "    x_test_new = pd.read_pickle(filepath)\n",
    "else:\n",
    "    hrv_test = biosignal_processing.get_hrv_for_data(data=x_test, sampling_rate=80)\n",
    "    # most relevant features\n",
    "    new_testing_set = hrv_test.drop(columns=to_drop)\n",
    "\n",
    "    # normalization\n",
    "\n",
    "    hrv_test_scaled = scaler.transform(hrv_test)\n",
    "    x_test_new = pd.DataFrame(hrv_test_scaled, index=hrv_test.index, columns=hrv_test.columns)\n",
    "    x_test_new.to_pickle(filepath)\n",
    "\n",
    "to_drop = [col for col in x_train_preictal.columns if col not in list(x_train_final.columns)]"
   ]
  },
  {
   "cell_type": "markdown",
   "metadata": {},
   "source": [
    "## HRV Analysis in the training data"
   ]
  },
  {
   "cell_type": "code",
   "execution_count": null,
   "metadata": {},
   "outputs": [],
   "source": [
    "# Anomaly detection\n",
    "\n",
    "\n",
    "from sklearn.ensemble import IsolationForest\n",
    "from sklearn.svm import OneClassSVM\n",
    "\n",
    "\n",
    "def anomaly_detection(model, X_train, X_val, X_test, y_train, y_val, y_test, patient_, seizure_dict):\n",
    "\n",
    "    if model == 'IF':\n",
    "        # Train the Isolation Forest on the normal class (majority class)\n",
    "        anomaly_detector = IsolationForest(contamination=0.05)  # Adjust contamination as needed\n",
    "        anomaly_detector.fit(pd.concat((X_train, X_val)))\n",
    "\n",
    "    if model == 'SVM':\n",
    "        # Train the One-Class SVM on the normal class (majority class)\n",
    "        anomaly_detector = OneClassSVM(nu=0.05, kernel='rbf', gamma='scale')  # Adjust parameters as needed\n",
    "        anomaly_detector.fit(pd.concat((X_train, X_val)))\n",
    "    \n",
    "    training_anomaly_scores = anomaly_detector.decision_function(X_train)\n",
    "    val_anomaly_scores = anomaly_detector.decision_function(X_val)\n",
    "\n",
    "#    classifiers = [('LR', LogisticRegression()), \n",
    "#                   ('RF', RandomForestClassifier(n_estimators=100, random_state=42)),\n",
    "#                   ('GB', GradientBoostingClassifier(n_estimators=100, random_state=42))]\n",
    "\n",
    "\n",
    "    return training_anomaly_scores, val_anomaly_scores\n"
   ]
  },
  {
   "cell_type": "code",
   "execution_count": null,
   "metadata": {},
   "outputs": [],
   "source": []
  },
  {
   "cell_type": "code",
   "execution_count": null,
   "metadata": {},
   "outputs": [],
   "source": [
    "train_scores, val_scores = anomaly_detection(model='IF', X_train=x_train_final.drop(columns=['Y']), X_val=x_test.drop(columns=['Y']), \n",
    "                                             X_test=x_test.drop(columns=['Y']), y_train=x_train_final['Y'], y_val=x_test['Y'], \n",
    "                                             y_test=x_test['Y'], patient_=patient, seizure_dict=patient_info.seizure_dict)"
   ]
  },
  {
   "cell_type": "markdown",
   "metadata": {},
   "source": [
    "## Label-based prediction"
   ]
  },
  {
   "cell_type": "code",
   "execution_count": 5,
   "metadata": {},
   "outputs": [
    {
     "name": "stdout",
     "output_type": "stream",
     "text": [
      "Seizure cluster was at : 0 days 01:57:00\n",
      "Data loaded successfully\n"
     ]
    }
   ],
   "source": [
    "data_final = pd.read_pickle(os.path.join('data', patient + '_hrv_data.pkl'))\n",
    "data_final.index.name = 'datetime'\n",
    "dataset = Prediction.DatasetPred(data=data_final)\n",
    "predictor = Prediction.PredictionEval()\n",
    "dataset_data = dataset.load_data(patient_info=patient_info, data=data_final)"
   ]
  },
  {
   "cell_type": "code",
   "execution_count": 6,
   "metadata": {},
   "outputs": [
    {
     "name": "stdout",
     "output_type": "stream",
     "text": [
      "Data loaded successfully\n"
     ]
    },
    {
     "data": {
      "text/html": [
       "<div>\n",
       "<style scoped>\n",
       "    .dataframe tbody tr th:only-of-type {\n",
       "        vertical-align: middle;\n",
       "    }\n",
       "\n",
       "    .dataframe tbody tr th {\n",
       "        vertical-align: top;\n",
       "    }\n",
       "\n",
       "    .dataframe thead th {\n",
       "        text-align: right;\n",
       "    }\n",
       "</style>\n",
       "<table border=\"1\" class=\"dataframe\">\n",
       "  <thead>\n",
       "    <tr style=\"text-align: right;\">\n",
       "      <th></th>\n",
       "      <th>hr_min</th>\n",
       "      <th>hr_max</th>\n",
       "      <th>hr_minmax</th>\n",
       "      <th>rr_min</th>\n",
       "      <th>rr_max</th>\n",
       "      <th>rr_minmax</th>\n",
       "      <th>rr_mean</th>\n",
       "      <th>rr_median</th>\n",
       "      <th>rmssd</th>\n",
       "      <th>nn50</th>\n",
       "      <th>...</th>\n",
       "      <th>hf_nu</th>\n",
       "      <th>s</th>\n",
       "      <th>sd1</th>\n",
       "      <th>sd2</th>\n",
       "      <th>sd12</th>\n",
       "      <th>sd21</th>\n",
       "      <th>sampen</th>\n",
       "      <th>daypart</th>\n",
       "      <th>onset</th>\n",
       "      <th>Y</th>\n",
       "    </tr>\n",
       "    <tr>\n",
       "      <th>datetime</th>\n",
       "      <th></th>\n",
       "      <th></th>\n",
       "      <th></th>\n",
       "      <th></th>\n",
       "      <th></th>\n",
       "      <th></th>\n",
       "      <th></th>\n",
       "      <th></th>\n",
       "      <th></th>\n",
       "      <th></th>\n",
       "      <th></th>\n",
       "      <th></th>\n",
       "      <th></th>\n",
       "      <th></th>\n",
       "      <th></th>\n",
       "      <th></th>\n",
       "      <th></th>\n",
       "      <th></th>\n",
       "      <th></th>\n",
       "      <th></th>\n",
       "      <th></th>\n",
       "    </tr>\n",
       "  </thead>\n",
       "  <tbody>\n",
       "    <tr>\n",
       "      <th>2021-04-12 12:33:32</th>\n",
       "      <td>36.332107</td>\n",
       "      <td>226.257346</td>\n",
       "      <td>189.925239</td>\n",
       "      <td>265.184760</td>\n",
       "      <td>1651.431872</td>\n",
       "      <td>1386.247112</td>\n",
       "      <td>917.194557</td>\n",
       "      <td>937.5</td>\n",
       "      <td>80.080169</td>\n",
       "      <td>28</td>\n",
       "      <td>...</td>\n",
       "      <td>0.343888</td>\n",
       "      <td>23415.658582</td>\n",
       "      <td>56.506496</td>\n",
       "      <td>131.904049</td>\n",
       "      <td>0.428391</td>\n",
       "      <td>2.334317</td>\n",
       "      <td>0.706775</td>\n",
       "      <td>1</td>\n",
       "      <td>0</td>\n",
       "      <td>interictal</td>\n",
       "    </tr>\n",
       "    <tr>\n",
       "      <th>2021-04-12 12:34:32</th>\n",
       "      <td>51.063830</td>\n",
       "      <td>322.834251</td>\n",
       "      <td>271.770422</td>\n",
       "      <td>185.853886</td>\n",
       "      <td>1175.000000</td>\n",
       "      <td>989.146114</td>\n",
       "      <td>902.150111</td>\n",
       "      <td>925.0</td>\n",
       "      <td>61.062142</td>\n",
       "      <td>34</td>\n",
       "      <td>...</td>\n",
       "      <td>0.389991</td>\n",
       "      <td>18741.813028</td>\n",
       "      <td>43.203588</td>\n",
       "      <td>138.083540</td>\n",
       "      <td>0.312880</td>\n",
       "      <td>3.196113</td>\n",
       "      <td>0.706264</td>\n",
       "      <td>1</td>\n",
       "      <td>0</td>\n",
       "      <td>interictal</td>\n",
       "    </tr>\n",
       "    <tr>\n",
       "      <th>2021-04-12 12:35:32</th>\n",
       "      <td>51.063830</td>\n",
       "      <td>322.834251</td>\n",
       "      <td>271.770422</td>\n",
       "      <td>185.853886</td>\n",
       "      <td>1175.000000</td>\n",
       "      <td>989.146114</td>\n",
       "      <td>904.228794</td>\n",
       "      <td>925.0</td>\n",
       "      <td>62.767801</td>\n",
       "      <td>32</td>\n",
       "      <td>...</td>\n",
       "      <td>0.421295</td>\n",
       "      <td>20373.103421</td>\n",
       "      <td>44.409123</td>\n",
       "      <td>146.027659</td>\n",
       "      <td>0.304114</td>\n",
       "      <td>3.288236</td>\n",
       "      <td>0.667651</td>\n",
       "      <td>1</td>\n",
       "      <td>0</td>\n",
       "      <td>interictal</td>\n",
       "    </tr>\n",
       "    <tr>\n",
       "      <th>2021-04-12 12:36:32</th>\n",
       "      <td>51.063830</td>\n",
       "      <td>322.834251</td>\n",
       "      <td>271.770422</td>\n",
       "      <td>185.853886</td>\n",
       "      <td>1175.000000</td>\n",
       "      <td>989.146114</td>\n",
       "      <td>904.635828</td>\n",
       "      <td>925.0</td>\n",
       "      <td>58.590890</td>\n",
       "      <td>28</td>\n",
       "      <td>...</td>\n",
       "      <td>0.394100</td>\n",
       "      <td>18301.090809</td>\n",
       "      <td>41.456512</td>\n",
       "      <td>140.518773</td>\n",
       "      <td>0.295025</td>\n",
       "      <td>3.389546</td>\n",
       "      <td>0.604747</td>\n",
       "      <td>1</td>\n",
       "      <td>0</td>\n",
       "      <td>interictal</td>\n",
       "    </tr>\n",
       "    <tr>\n",
       "      <th>2021-04-12 12:37:32</th>\n",
       "      <td>51.063830</td>\n",
       "      <td>322.834251</td>\n",
       "      <td>271.770422</td>\n",
       "      <td>185.853886</td>\n",
       "      <td>1175.000000</td>\n",
       "      <td>989.146114</td>\n",
       "      <td>885.146537</td>\n",
       "      <td>912.5</td>\n",
       "      <td>67.447288</td>\n",
       "      <td>38</td>\n",
       "      <td>...</td>\n",
       "      <td>0.378132</td>\n",
       "      <td>22683.996632</td>\n",
       "      <td>47.715042</td>\n",
       "      <td>151.326292</td>\n",
       "      <td>0.315312</td>\n",
       "      <td>3.171459</td>\n",
       "      <td>0.639363</td>\n",
       "      <td>1</td>\n",
       "      <td>0</td>\n",
       "      <td>interictal</td>\n",
       "    </tr>\n",
       "    <tr>\n",
       "      <th>...</th>\n",
       "      <td>...</td>\n",
       "      <td>...</td>\n",
       "      <td>...</td>\n",
       "      <td>...</td>\n",
       "      <td>...</td>\n",
       "      <td>...</td>\n",
       "      <td>...</td>\n",
       "      <td>...</td>\n",
       "      <td>...</td>\n",
       "      <td>...</td>\n",
       "      <td>...</td>\n",
       "      <td>...</td>\n",
       "      <td>...</td>\n",
       "      <td>...</td>\n",
       "      <td>...</td>\n",
       "      <td>...</td>\n",
       "      <td>...</td>\n",
       "      <td>...</td>\n",
       "      <td>...</td>\n",
       "      <td>...</td>\n",
       "      <td>...</td>\n",
       "    </tr>\n",
       "    <tr>\n",
       "      <th>2021-04-16 16:20:32</th>\n",
       "      <td>67.605634</td>\n",
       "      <td>81.355932</td>\n",
       "      <td>13.750298</td>\n",
       "      <td>737.500000</td>\n",
       "      <td>887.500000</td>\n",
       "      <td>150.000000</td>\n",
       "      <td>823.904466</td>\n",
       "      <td>825.0</td>\n",
       "      <td>12.264879</td>\n",
       "      <td>0</td>\n",
       "      <td>...</td>\n",
       "      <td>0.163463</td>\n",
       "      <td>1193.253998</td>\n",
       "      <td>8.693537</td>\n",
       "      <td>43.690451</td>\n",
       "      <td>0.198980</td>\n",
       "      <td>5.025624</td>\n",
       "      <td>1.173631</td>\n",
       "      <td>2</td>\n",
       "      <td>0</td>\n",
       "      <td>interictal</td>\n",
       "    </tr>\n",
       "    <tr>\n",
       "      <th>2021-04-16 16:21:32</th>\n",
       "      <td>67.605634</td>\n",
       "      <td>82.758621</td>\n",
       "      <td>15.152987</td>\n",
       "      <td>725.000000</td>\n",
       "      <td>887.500000</td>\n",
       "      <td>162.500000</td>\n",
       "      <td>817.593129</td>\n",
       "      <td>825.0</td>\n",
       "      <td>12.198270</td>\n",
       "      <td>0</td>\n",
       "      <td>...</td>\n",
       "      <td>0.162376</td>\n",
       "      <td>1217.396695</td>\n",
       "      <td>8.643398</td>\n",
       "      <td>44.832996</td>\n",
       "      <td>0.192791</td>\n",
       "      <td>5.186964</td>\n",
       "      <td>1.171615</td>\n",
       "      <td>2</td>\n",
       "      <td>0</td>\n",
       "      <td>interictal</td>\n",
       "    </tr>\n",
       "    <tr>\n",
       "      <th>2021-04-16 16:22:32</th>\n",
       "      <td>67.605634</td>\n",
       "      <td>82.758621</td>\n",
       "      <td>15.152987</td>\n",
       "      <td>725.000000</td>\n",
       "      <td>887.500000</td>\n",
       "      <td>162.500000</td>\n",
       "      <td>818.767123</td>\n",
       "      <td>825.0</td>\n",
       "      <td>11.687253</td>\n",
       "      <td>0</td>\n",
       "      <td>...</td>\n",
       "      <td>0.163941</td>\n",
       "      <td>1099.131670</td>\n",
       "      <td>8.287277</td>\n",
       "      <td>42.217061</td>\n",
       "      <td>0.196302</td>\n",
       "      <td>5.094202</td>\n",
       "      <td>1.049379</td>\n",
       "      <td>2</td>\n",
       "      <td>0</td>\n",
       "      <td>interictal</td>\n",
       "    </tr>\n",
       "    <tr>\n",
       "      <th>2021-04-16 16:23:32</th>\n",
       "      <td>66.666667</td>\n",
       "      <td>87.272727</td>\n",
       "      <td>20.606061</td>\n",
       "      <td>687.500000</td>\n",
       "      <td>900.000000</td>\n",
       "      <td>212.500000</td>\n",
       "      <td>815.563099</td>\n",
       "      <td>825.0</td>\n",
       "      <td>12.957458</td>\n",
       "      <td>2</td>\n",
       "      <td>...</td>\n",
       "      <td>0.192408</td>\n",
       "      <td>1730.526776</td>\n",
       "      <td>9.203698</td>\n",
       "      <td>59.850264</td>\n",
       "      <td>0.153779</td>\n",
       "      <td>6.502849</td>\n",
       "      <td>1.166181</td>\n",
       "      <td>2</td>\n",
       "      <td>0</td>\n",
       "      <td>interictal</td>\n",
       "    </tr>\n",
       "    <tr>\n",
       "      <th>2021-04-16 16:24:32</th>\n",
       "      <td>66.666667</td>\n",
       "      <td>111.627907</td>\n",
       "      <td>44.961240</td>\n",
       "      <td>537.500000</td>\n",
       "      <td>900.000000</td>\n",
       "      <td>362.500000</td>\n",
       "      <td>802.296679</td>\n",
       "      <td>812.5</td>\n",
       "      <td>21.818548</td>\n",
       "      <td>8</td>\n",
       "      <td>...</td>\n",
       "      <td>0.293619</td>\n",
       "      <td>3091.903877</td>\n",
       "      <td>15.448749</td>\n",
       "      <td>63.706361</td>\n",
       "      <td>0.242499</td>\n",
       "      <td>4.123723</td>\n",
       "      <td>1.089857</td>\n",
       "      <td>2</td>\n",
       "      <td>0</td>\n",
       "      <td>interictal</td>\n",
       "    </tr>\n",
       "  </tbody>\n",
       "</table>\n",
       "<p>5750 rows × 33 columns</p>\n",
       "</div>"
      ],
      "text/plain": [
       "                        hr_min      hr_max   hr_minmax      rr_min  \\\n",
       "datetime                                                             \n",
       "2021-04-12 12:33:32  36.332107  226.257346  189.925239  265.184760   \n",
       "2021-04-12 12:34:32  51.063830  322.834251  271.770422  185.853886   \n",
       "2021-04-12 12:35:32  51.063830  322.834251  271.770422  185.853886   \n",
       "2021-04-12 12:36:32  51.063830  322.834251  271.770422  185.853886   \n",
       "2021-04-12 12:37:32  51.063830  322.834251  271.770422  185.853886   \n",
       "...                        ...         ...         ...         ...   \n",
       "2021-04-16 16:20:32  67.605634   81.355932   13.750298  737.500000   \n",
       "2021-04-16 16:21:32  67.605634   82.758621   15.152987  725.000000   \n",
       "2021-04-16 16:22:32  67.605634   82.758621   15.152987  725.000000   \n",
       "2021-04-16 16:23:32  66.666667   87.272727   20.606061  687.500000   \n",
       "2021-04-16 16:24:32  66.666667  111.627907   44.961240  537.500000   \n",
       "\n",
       "                          rr_max    rr_minmax     rr_mean  rr_median  \\\n",
       "datetime                                                               \n",
       "2021-04-12 12:33:32  1651.431872  1386.247112  917.194557      937.5   \n",
       "2021-04-12 12:34:32  1175.000000   989.146114  902.150111      925.0   \n",
       "2021-04-12 12:35:32  1175.000000   989.146114  904.228794      925.0   \n",
       "2021-04-12 12:36:32  1175.000000   989.146114  904.635828      925.0   \n",
       "2021-04-12 12:37:32  1175.000000   989.146114  885.146537      912.5   \n",
       "...                          ...          ...         ...        ...   \n",
       "2021-04-16 16:20:32   887.500000   150.000000  823.904466      825.0   \n",
       "2021-04-16 16:21:32   887.500000   162.500000  817.593129      825.0   \n",
       "2021-04-16 16:22:32   887.500000   162.500000  818.767123      825.0   \n",
       "2021-04-16 16:23:32   900.000000   212.500000  815.563099      825.0   \n",
       "2021-04-16 16:24:32   900.000000   362.500000  802.296679      812.5   \n",
       "\n",
       "                         rmssd  nn50  ...     hf_nu             s        sd1  \\\n",
       "datetime                              ...                                      \n",
       "2021-04-12 12:33:32  80.080169    28  ...  0.343888  23415.658582  56.506496   \n",
       "2021-04-12 12:34:32  61.062142    34  ...  0.389991  18741.813028  43.203588   \n",
       "2021-04-12 12:35:32  62.767801    32  ...  0.421295  20373.103421  44.409123   \n",
       "2021-04-12 12:36:32  58.590890    28  ...  0.394100  18301.090809  41.456512   \n",
       "2021-04-12 12:37:32  67.447288    38  ...  0.378132  22683.996632  47.715042   \n",
       "...                        ...   ...  ...       ...           ...        ...   \n",
       "2021-04-16 16:20:32  12.264879     0  ...  0.163463   1193.253998   8.693537   \n",
       "2021-04-16 16:21:32  12.198270     0  ...  0.162376   1217.396695   8.643398   \n",
       "2021-04-16 16:22:32  11.687253     0  ...  0.163941   1099.131670   8.287277   \n",
       "2021-04-16 16:23:32  12.957458     2  ...  0.192408   1730.526776   9.203698   \n",
       "2021-04-16 16:24:32  21.818548     8  ...  0.293619   3091.903877  15.448749   \n",
       "\n",
       "                            sd2      sd12      sd21    sampen  daypart  onset  \\\n",
       "datetime                                                                        \n",
       "2021-04-12 12:33:32  131.904049  0.428391  2.334317  0.706775        1      0   \n",
       "2021-04-12 12:34:32  138.083540  0.312880  3.196113  0.706264        1      0   \n",
       "2021-04-12 12:35:32  146.027659  0.304114  3.288236  0.667651        1      0   \n",
       "2021-04-12 12:36:32  140.518773  0.295025  3.389546  0.604747        1      0   \n",
       "2021-04-12 12:37:32  151.326292  0.315312  3.171459  0.639363        1      0   \n",
       "...                         ...       ...       ...       ...      ...    ...   \n",
       "2021-04-16 16:20:32   43.690451  0.198980  5.025624  1.173631        2      0   \n",
       "2021-04-16 16:21:32   44.832996  0.192791  5.186964  1.171615        2      0   \n",
       "2021-04-16 16:22:32   42.217061  0.196302  5.094202  1.049379        2      0   \n",
       "2021-04-16 16:23:32   59.850264  0.153779  6.502849  1.166181        2      0   \n",
       "2021-04-16 16:24:32   63.706361  0.242499  4.123723  1.089857        2      0   \n",
       "\n",
       "                              Y  \n",
       "datetime                         \n",
       "2021-04-12 12:33:32  interictal  \n",
       "2021-04-12 12:34:32  interictal  \n",
       "2021-04-12 12:35:32  interictal  \n",
       "2021-04-12 12:36:32  interictal  \n",
       "2021-04-12 12:37:32  interictal  \n",
       "...                         ...  \n",
       "2021-04-16 16:20:32  interictal  \n",
       "2021-04-16 16:21:32  interictal  \n",
       "2021-04-16 16:22:32  interictal  \n",
       "2021-04-16 16:23:32  interictal  \n",
       "2021-04-16 16:24:32  interictal  \n",
       "\n",
       "[5750 rows x 33 columns]"
      ]
     },
     "execution_count": 6,
     "metadata": {},
     "output_type": "execute_result"
    }
   ],
   "source": [
    "dataset_data = dataset.load_data(patient_info=patient_info, data=data_final)\n",
    "annotated_dataset = dataset.annotate_data(data= dataset_data)\n",
    "annotated_dataset\n"
   ]
  },
  {
   "cell_type": "code",
   "execution_count": 90,
   "metadata": {},
   "outputs": [],
   "source": [
    "TRAIN_SZ = 3\n",
    "\n",
    "columns_to_drop = ['Y', 'daypart', 'onset', 'fbands']\n",
    "\n",
    "\n",
    "def dataset_preparation(annotated_dataset, train_sz, columns_to_drop, scaler, remove_from_train):\n",
    "    \"\"\"\n",
    "    This function prepares the dataset for training and testing.\n",
    "    \n",
    "    Parameters\n",
    "    ----------\n",
    "    annotated_dataset : pd.DataFrame\n",
    "        The annotated dataset.\n",
    "    train_sz : int\n",
    "        The number of seizures to use for training.\n",
    "    columns_to_drop : list\n",
    "        The columns to drop from the dataset.\n",
    "    scaler : sklearn.preprocessing.MinMaxScaler\n",
    "        The scaler to use for the data.\n",
    "    \n",
    "    Returns\n",
    "    -------\n",
    "    x_train_final : pd.DataFrame\n",
    "        The training dataset.\n",
    "    x_test_final : pd.DataFrame\n",
    "        The testing dataset.\n",
    "    y_train : pd.Series\n",
    "        The training labels.\n",
    "    y_test : pd.Series\n",
    "        The testing labels.\n",
    "    \"\"\"\n",
    "\n",
    "    x_train, x_test = dataset.train_test_split(annotated_dataset, train_sz = train_sz)\n",
    "    if remove_from_train:\n",
    "        x_train_usable = x_train.loc[x_train['Y'] != 'removefromtrain'].copy()\n",
    "        x_test_usable = x_test.loc[x_test['Y'] != 'removefromtrain'].copy()\n",
    "    else:\n",
    "        x_train_usable = x_train.copy()\n",
    "        x_test_usable = x_test.copy()\n",
    "\n",
    "    scaler.fit(x_train_usable.drop(columns=columns_to_drop))\n",
    "    x_train_scaled = scaler.transform(x_train_usable.drop(columns=columns_to_drop))\n",
    "    \n",
    "    x_test_scaled = scaler.transform(x_test_usable.drop(columns=columns_to_drop))\n",
    "    x_train_final = pd.DataFrame(x_train_scaled, index=x_train_usable.index, \n",
    "                                columns=x_train_usable.drop(columns=columns_to_drop).columns)\n",
    "    x_train_final['daypart'] = x_train_usable['daypart'].copy()\n",
    "\n",
    "    x_test_final = pd.DataFrame(x_test_scaled, index=x_test_usable.index, \n",
    "                                columns=x_test_usable.drop(columns=columns_to_drop).columns)\n",
    "\n",
    "    x_test_final['daypart'] = x_test_usable['daypart'].copy()\n",
    "\n",
    "    y_train = x_train_usable['Y'].copy()\n",
    "    y_test = x_test_usable['Y'].copy()\n",
    "\n",
    "    return x_train_final, x_test_final, y_train, y_test\n",
    "\n"
   ]
  },
  {
   "cell_type": "code",
   "execution_count": 91,
   "metadata": {},
   "outputs": [],
   "source": [
    "\n",
    "\n",
    "from sklearn.ensemble import IsolationForest\n",
    "from sklearn.svm import OneClassSVM\n",
    "\n",
    "anomaly_detector = OneClassSVM(nu=0.05, kernel='rbf', gamma='scale')  # Adjust parameters as needed\n",
    "anomaly_detector = IsolationForest(contamination=0.05)  # Adjust contamination as needed\n"
   ]
  },
  {
   "cell_type": "code",
   "execution_count": 96,
   "metadata": {},
   "outputs": [
    {
     "name": "stdout",
     "output_type": "stream",
     "text": [
      "The whole dataset contains 7 seizures\n"
     ]
    },
    {
     "data": {
      "text/plain": [
       "datetime\n",
       "2021-04-15 11:31:32    1\n",
       "2021-04-15 11:32:32    1\n",
       "2021-04-15 11:33:32    1\n",
       "2021-04-15 11:34:32    1\n",
       "2021-04-15 11:35:32    1\n",
       "                      ..\n",
       "2021-04-16 16:20:32    0\n",
       "2021-04-16 16:21:32    0\n",
       "2021-04-16 16:22:32    0\n",
       "2021-04-16 16:23:32    0\n",
       "2021-04-16 16:24:32    0\n",
       "Name: Y, Length: 1034, dtype: int64"
      ]
     },
     "execution_count": 96,
     "metadata": {},
     "output_type": "execute_result"
    }
   ],
   "source": [
    "\n",
    "x_train, x_test, y_train, y_test = dataset_preparation(annotated_dataset, train_sz=TRAIN_SZ, columns_to_drop=columns_to_drop, scaler=MinMaxScaler(), remove_from_train=True)\n",
    "anomaly_detector = OneClassSVM(nu=0.05, kernel='rbf', gamma='scale')  # Adjust parameters as needed\n",
    "anomaly_detector = IsolationForest(contamination=0.05)  # Adjust contamination as needed\n",
    "\n",
    "anomaly_detector.fit(x_train)\n",
    "training_anomaly_scores = anomaly_detector.decision_function(x_train)\n",
    "val_anomaly_scores = anomaly_detector.decision_function(x_test)\n",
    "\n",
    "y_test = (y_test == 'preictal').astype(int)\n",
    "y_test"
   ]
  },
  {
   "cell_type": "code",
   "execution_count": 97,
   "metadata": {},
   "outputs": [
    {
     "data": {
      "image/png": "[encoded data removed]",
      "text/plain": [
       "<Figure size 1000x600 with 1 Axes>"
      ]
     },
     "metadata": {},
     "output_type": "display_data"
    }
   ],
   "source": [
    "from sklearn.metrics import roc_curve, auc\n",
    "\n",
    "# Compute ROC curve and ROC AUC\n",
    "fpr, tpr, thresholds = roc_curve(y_test, val_anomaly_scores)\n",
    "roc_auc = auc(fpr, tpr)\n",
    "\n",
    "# Plot the ROC curve\n",
    "plt.figure(figsize=(10, 6))\n",
    "plt.plot(fpr, tpr, color='darkorange', lw=2, label=f'ROC curve (AUC = {roc_auc:.2f})')\n",
    "plt.plot([0, 1], [0, 1], color='navy', lw=2, linestyle='--')\n",
    "plt.xlabel('False Positive Rate')\n",
    "plt.ylabel('True Positive Rate')\n",
    "plt.title('Receiver Operating Characteristic (ROC) Curve')\n",
    "plt.legend(loc='lower right')\n",
    "plt.show()"
   ]
  },
  {
   "cell_type": "code",
   "execution_count": 109,
   "metadata": {},
   "outputs": [
    {
     "name": "stdout",
     "output_type": "stream",
     "text": [
      "The whole dataset contains 7 seizures\n"
     ]
    },
    {
     "data": {
      "image/png": "[encoded data removed]",
      "text/plain": [
       "<Figure size 1000x600 with 1 Axes>"
      ]
     },
     "metadata": {},
     "output_type": "display_data"
    }
   ],
   "source": [
    "import matplotlib.pyplot as plt\n",
    "from sklearn.metrics import roc_curve, auc\n",
    "from sklearn.model_selection import train_test_split\n",
    "from sklearn.ensemble import IsolationForest\n",
    "from sklearn.feature_selection import RFE\n",
    "\n",
    "from sklearn.feature_selection import SelectKBest, f_classif\n",
    "from sklearn.preprocessing import StandardScaler\n",
    "\n",
    "# Generate some example data (replace this with your actual data)\n",
    "# X should be your feature matrix, y should be your labels (1 for normal, -1 for anomaly)\n",
    "\n",
    "\n",
    "# Split the data into training and testing sets\n",
    "annotated_dataset['dayhour'] = annotated_dataset.index.hour\n",
    "\n",
    "X_train, X_test, y_train, y_test = dataset_preparation(annotated_dataset, train_sz=TRAIN_SZ, columns_to_drop=columns_to_drop, scaler=StandardScaler(), remove_from_train=True)\n",
    "y_train = (y_train == 'preictal').astype(int)\n",
    "y_test = (y_test == 'preictal').astype(int)\n",
    "\n",
    "# Feature selection using SelectKBest with ANOVA F-statistic\n",
    "k_best = SelectKBest(f_classif, k=10)  # Adjust the number of features based on your needs\n",
    "X_train_kbest = k_best.fit_transform(X_train, y_train)\n",
    "X_test_kbest = k_best.transform(X_test)\n",
    "\n",
    "# Train the model on the selected features\n",
    "model = IsolationForest(contamination=0.1, random_state=42)\n",
    "model.fit(X_train_kbest)\n",
    "\n",
    "# Predict the anomaly scores on the test set\n",
    "y_scores = model.decision_function(X_test_kbest)\n",
    "\n",
    "# Compute ROC curve and ROC AUC\n",
    "fpr, tpr, thresholds = roc_curve(y_test, y_scores)\n",
    "roc_auc = auc(fpr, tpr)\n",
    "\n",
    "# Plot the ROC curve\n",
    "plt.figure(figsize=(10, 6))\n",
    "plt.plot(fpr, tpr, color='darkorange', lw=2, label=f'ROC curve (AUC = {roc_auc:.2f})')\n",
    "plt.plot([0, 1], [0, 1], color='navy', lw=2, linestyle='--')\n",
    "plt.xlabel('False Positive Rate')\n",
    "plt.ylabel('True Positive Rate')\n",
    "plt.title('Receiver Operating Characteristic (ROC) Curve with Feature Selection')\n",
    "plt.legend(loc='lower right')\n",
    "plt.show()\n"
   ]
  },
  {
   "cell_type": "code",
   "execution_count": 115,
   "metadata": {},
   "outputs": [
    {
     "name": "stdout",
     "output_type": "stream",
     "text": [
      "0.704\n"
     ]
    }
   ],
   "source": [
    "print(f'{roc_auc:.3f}')"
   ]
  },
  {
   "cell_type": "code",
   "execution_count": null,
   "metadata": {},
   "outputs": [],
   "source": []
  }
 ],
 "metadata": {
  "kernelspec": {
   "display_name": ".venv",
   "language": "python",
   "name": "python3"
  },
  "language_info": {
   "codemirror_mode": {
    "name": "ipython",
    "version": 3
   },
   "file_extension": ".py",
   "mimetype": "text/x-python",
   "name": "python",
   "nbconvert_exporter": "python",
   "pygments_lexer": "ipython3",
   "version": "3.11.6"
  }
 },
 "nbformat": 4,
 "nbformat_minor": 2
}
