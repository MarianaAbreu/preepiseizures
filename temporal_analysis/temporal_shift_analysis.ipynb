{
 "cells": [
  {
   "cell_type": "code",
   "execution_count": null,
   "metadata": {},
   "outputs": [],
   "source": [
    "import json\n",
    "import os\n",
    "from datetime import datetime\n",
    "\n",
    "import pandas as pd\n",
    "import plotly.express as px\n",
    "\n",
    "from preepiseizures.src import Patient, Biosignal\n",
    "from preepiseizures.temporal_analysis import temporal_hr_sync as ths\n"
   ]
  },
  {
   "cell_type": "code",
   "execution_count": null,
   "metadata": {},
   "outputs": [],
   "source": [
    "\n",
    "patient_dict_ = json.load(open('patient_info.json', 'r'))\n",
    "patient_list = list(patient_dict_.keys())\n",
    "for patient in patient_list[30:40]:\n",
    "    # print('patient: ', patient)\n",
    "    #if 'temporal_shift' not in patient_dict_[patient].keys():\n",
    "    #    continue\n",
    "    # print(patient_dict_[patient])\n",
    "    if not os.path.isfile(patient + '_hospital_hr.parquet'):\n",
    "         continue\n",
    "    if not os.path.isfile(patient + '_wearable_hr.parquet'):\n",
    "         continue\n",
    "    # continue\n",
    "    print(patient, ' is good')\n",
    "    patient_class = Patient.patient_class(patient)\n",
    "\n",
    "    ## GET HR DATA\n",
    "    if patient in ['VNVW', 'CNSV']:\n",
    "        \n",
    "        hr_wear = pd.read_parquet(patient + '_wearable_hr.parquet')\n",
    "        hr_correct = hr_wear.rename(columns={'timestamp': 'datetime'})\n",
    "        if patient == 'VNVW':\n",
    "            hr_wear = Patient.correct_patient(hr_correct, patient)\n",
    "        hr_hosp = pd.read_parquet(patient + '_hospital_hr.parquet')\n",
    "    else:\n",
    "        hr_wear = ths.get_all_hr_wearable(patient_class)\n",
    "        hr_hosp = ths.get_all_hr_hospital(patient_class)\n",
    "    if len(hr_hosp) < 1:\n",
    "        continue\n",
    "    hr_new = ths.process_hr(hr_wear)\n",
    "    hr_new_2 = ths.process_hr(hr_hosp)\n",
    "    df_all, df_w = ths.compute_correlation(hr_new_2, hr_new)\n",
    "    temporal_shift = df_all['hr_w'].dropna().index[0] - hr_new.index[0]\n",
    "    print('temporal shift: ', temporal_shift)\n",
    "    df_all['old'] = hr_new['hr']\n",
    "\n",
    "    fig = px.line(df_all, x=df_all.index, y=['hr_w', 'hr_h', 'old'], title=patient)\n",
    "    fig.show()\n",
    "    \n",
    "\n",
    "    \n",
    "    "
   ]
  },
  {
   "cell_type": "code",
   "execution_count": null,
   "metadata": {},
   "outputs": [],
   "source": [
    "patient = 'YIVL'\n",
    "patient_class = Patient.patient_class(patient)\n",
    "patient_class.get_seizure_annotations()\n",
    "## GET HR DATA\n",
    "hr_wear = ths.get_all_hr_wearable(patient_class)\n",
    "print(hr_wear.head(5))\n",
    "hr_hosp = ths.get_all_hr_hospital(patient_class)\n",
    "# hr_wear['datetime'] = hr_wear['timestamp']\n",
    "# hr_wear = Patient.correct_patient(hr_wear, patient)\n",
    "# hr_wear.index = hr_wear['datetime']\n",
    "# hr_wear = hr_wear.drop(columns=['datetime'])\n",
    "# hr_wear['timestamp'] = hr_wear.index"
   ]
  },
  {
   "cell_type": "code",
   "execution_count": null,
   "metadata": {},
   "outputs": [],
   "source": [
    "hr_hosp"
   ]
  },
  {
   "cell_type": "code",
   "execution_count": null,
   "metadata": {},
   "outputs": [],
   "source": [
    "hr_wear"
   ]
  },
  {
   "cell_type": "code",
   "execution_count": null,
   "metadata": {},
   "outputs": [],
   "source": [
    "patient_class.id"
   ]
  },
  {
   "cell_type": "code",
   "execution_count": null,
   "metadata": {},
   "outputs": [],
   "source": [
    "import biosppy as bp\n",
    "def process_hr(hr_df):\n",
    "    \"\"\"\n",
    "    Receives an hr dataframe with timestamps column and hr column.\n",
    "    Resamples and processes the HR signal to have a clean and continuous signal.\n",
    "    ----\n",
    "    Parameters:\n",
    "        hr_df: pd.DataFrame - Dataframe with hr data\n",
    "    ----\n",
    "    Returns:\n",
    "        hr_df: pd.DataFrame - Dataframe with processed hr data\n",
    "    \"\"\"\n",
    "    hr_df = hr_df.set_index('timestamp')\n",
    "    # median filter\n",
    "\n",
    "    hr_df = hr_df.resample('5S').median()\n",
    "    hr_df = hr_df.interpolate(method='linear', limit_direction='both')\n",
    "    hr_df = hr_df.dropna()\n",
    "    # clean even more\n",
    "    # hr_df = hr_df.resample('30S').median()\n",
    "    hr_filt = bp.signals.tools.filter_signal(signal=hr_df['hr'].values, ftype='butter', band='lowpass', order=4, frequency=0.005, sampling_rate=0.2)['signal']\n",
    "    hr_df['hr'] = hr_filt\n",
    "    return hr_df\n"
   ]
  },
  {
   "cell_type": "code",
   "execution_count": null,
   "metadata": {},
   "outputs": [],
   "source": [
    "hr_new = process_hr(hr_wear)#.iloc[:7200] # .loc['2020-1-7 17:59:00':'2020-1-7 03:59:59']\n",
    "hr_new_2 = process_hr(hr_hosp)#.iloc[17200:30000]"
   ]
  },
  {
   "cell_type": "code",
   "execution_count": null,
   "metadata": {},
   "outputs": [],
   "source": [
    "hr_clean = hr_wear.loc[hr_wear['hr']< 120]\n",
    "fig = px.line(hr_clean, x='timestamp', y='hr', title=patient)\n",
    "hr_new = process_hr(hr_clean)#.iloc[:7200] # .loc['2020-1-7 17:59:00':'2020-1-7 03:59:59']\n",
    "\n",
    "fig.show()"
   ]
  },
  {
   "cell_type": "code",
   "execution_count": null,
   "metadata": {},
   "outputs": [],
   "source": [
    "fig = px.line(hr_new, x=hr_new.index, y='hr', title=patient)\n",
    "fig.add_scatter(x=hr_new_2.index, y=hr_new_2['hr'], mode='lines', name='hospital')\n",
    "fig.show()"
   ]
  },
  {
   "cell_type": "code",
   "execution_count": null,
   "metadata": {},
   "outputs": [],
   "source": [
    "\n",
    "df_all, df_w = ths.compute_correlation(hr_new_2, hr_new)\n",
    "temporal_shift = df_all['hr_w'].dropna().index[0] - hr_new.index[0]\n",
    "print('temporal shift: ', temporal_shift)\n",
    "\n",
    "fig = px.line(df_all, x=df_all.index, y=['hr_w', 'hr_h'], title=patient)\n",
    "fig.show()\n",
    "\n",
    "df_old = pd.DataFrame({'hr_w':hr_new['hr'], 'hr_h':hr_new_2['hr']}) \n",
    "fig = px.line(df_old, x=df_old.index, y=['hr_w', 'hr_h'], title=patient + ' no temporal shift')\n",
    "for i in range(len(patient_class.seizure_table)):\n",
    "    fig.add_vline(x=patient_class.seizure_table['Timestamp'].iloc[i], line_width=3, line_dash=\"dash\", line_color=\"green\")\n",
    "fig.show()"
   ]
  },
  {
   "cell_type": "code",
   "execution_count": null,
   "metadata": {},
   "outputs": [],
   "source": [
    "df_old = pd.DataFrame({'hr_w':hr_new['hr'], 'hr_h':hr_new_2['hr']}) \n",
    "df_old['hr_w'] = df_old['hr_w'].shift(periods=1150, freq='1S')\n",
    "fig = px.line(df_old, x=df_old.index, y=['hr_w', 'hr_h'], title=patient + ' manual temporal shift')\n",
    "for i in range(len(patient_class.seizure_table)):\n",
    "    fig.add_vline(x=patient_class.seizure_table['Timestamp'].iloc[i], line_width=3, line_dash=\"dash\", line_color=\"green\")\n",
    "fig.show()"
   ]
  },
  {
   "cell_type": "code",
   "execution_count": null,
   "metadata": {},
   "outputs": [],
   "source": [
    "\n",
    "df_old = pd.DataFrame({'hr_w':hr_new['hr'], 'hr_h':hr_new_2['hr']}) \n",
    "fig = px.line(df_old, x=df_old.index, y=['hr_w', 'hr_h'], title=patient + ' no temporal shift')\n",
    "for i in range(len(patient_class.seizure_table)):\n",
    "    fig.add_vline(x=patient_class.seizure_table['Timestamp'].iloc[i], line_width=3, line_dash=\"dash\", line_color=\"green\", \n",
    "                  name=patient_class.seizure_table['Focal / Generalisada'].iloc[i])\n",
    "fig.show()"
   ]
  },
  {
   "cell_type": "code",
   "execution_count": 64,
   "metadata": {},
   "outputs": [
    {
     "name": "stdout",
     "output_type": "stream",
     "text": [
      "   hr                  timestamp\n",
      "0 NaN 2022-08-08 15:53:38.194146\n",
      "1 NaN 2022-08-08 15:53:40.000146\n",
      "2 NaN 2022-08-08 15:54:00.000146\n",
      "3 NaN 2022-08-08 15:54:20.618146\n",
      "4 NaN 2022-08-08 15:54:20.928146\n"
     ]
    },
    {
     "data": {
      "text/html": [
       "<div>\n",
       "<style scoped>\n",
       "    .dataframe tbody tr th:only-of-type {\n",
       "        vertical-align: middle;\n",
       "    }\n",
       "\n",
       "    .dataframe tbody tr th {\n",
       "        vertical-align: top;\n",
       "    }\n",
       "\n",
       "    .dataframe thead th {\n",
       "        text-align: right;\n",
       "    }\n",
       "</style>\n",
       "<table border=\"1\" class=\"dataframe\">\n",
       "  <thead>\n",
       "    <tr style=\"text-align: right;\">\n",
       "      <th></th>\n",
       "      <th>Crises</th>\n",
       "      <th>Data</th>\n",
       "      <th>Hora Clínica</th>\n",
       "      <th>Localização</th>\n",
       "      <th>lado</th>\n",
       "      <th>Focal / Generalisada</th>\n",
       "      <th>Fim</th>\n",
       "      <th>Sono/ Vigília</th>\n",
       "      <th>Tipo</th>\n",
       "      <th>Timestamp</th>\n",
       "    </tr>\n",
       "  </thead>\n",
       "  <tbody>\n",
       "    <tr>\n",
       "      <th>0</th>\n",
       "      <td>Crise1</td>\n",
       "      <td>2022-08-10</td>\n",
       "      <td>01:09:27</td>\n",
       "      <td>FC e PO</td>\n",
       "      <td>L</td>\n",
       "      <td>FBTC</td>\n",
       "      <td>01:11:20</td>\n",
       "      <td>Sono</td>\n",
       "      <td>Hiperventilação e taquicardia e TC</td>\n",
       "      <td>2022-08-10 01:09:27</td>\n",
       "    </tr>\n",
       "    <tr>\n",
       "      <th>1</th>\n",
       "      <td>Crise2</td>\n",
       "      <td>2022-08-10</td>\n",
       "      <td>10:37:26</td>\n",
       "      <td>FC e PO</td>\n",
       "      <td>L</td>\n",
       "      <td>FBTC</td>\n",
       "      <td>10:39:19</td>\n",
       "      <td>Sono?</td>\n",
       "      <td>Hiperventilação e taquicardia e TC</td>\n",
       "      <td>2022-08-10 10:37:26</td>\n",
       "    </tr>\n",
       "    <tr>\n",
       "      <th>2</th>\n",
       "      <td>Crise3</td>\n",
       "      <td>2022-08-11</td>\n",
       "      <td>01:36:30</td>\n",
       "      <td>FC e PO</td>\n",
       "      <td>L</td>\n",
       "      <td>FBTC</td>\n",
       "      <td>01:38:23</td>\n",
       "      <td>Sono</td>\n",
       "      <td>Hiperventilação e taquicardia e TC</td>\n",
       "      <td>2022-08-11 01:36:30</td>\n",
       "    </tr>\n",
       "  </tbody>\n",
       "</table>\n",
       "</div>"
      ],
      "text/plain": [
       "   Crises       Data Hora Clínica Localização lado Focal / Generalisada  \\\n",
       "0  Crise1 2022-08-10     01:09:27     FC e PO    L                 FBTC   \n",
       "1  Crise2 2022-08-10     10:37:26     FC e PO    L                 FBTC   \n",
       "2  Crise3 2022-08-11     01:36:30     FC e PO    L                 FBTC   \n",
       "\n",
       "        Fim Sono/ Vigília                                Tipo  \\\n",
       "0  01:11:20          Sono  Hiperventilação e taquicardia e TC   \n",
       "1  10:39:19         Sono?  Hiperventilação e taquicardia e TC   \n",
       "2  01:38:23          Sono  Hiperventilação e taquicardia e TC   \n",
       "\n",
       "            Timestamp  \n",
       "0 2022-08-10 01:09:27  \n",
       "1 2022-08-10 10:37:26  \n",
       "2 2022-08-11 01:36:30  "
      ]
     },
     "execution_count": 64,
     "metadata": {},
     "output_type": "execute_result"
    }
   ],
   "source": [
    "patient = 'YIVL'\n",
    "patient_class = Patient.patient_class(patient)\n",
    "patient_class.get_seizure_annotations()\n",
    "## GET HR DATA\n",
    "hr_wear = ths.get_all_hr_wearable(patient_class)\n",
    "print(hr_wear.head(5))\n",
    "hr_hosp = ths.get_all_hr_hospital(patient_class)\n",
    "\n",
    "patient_class.seizure_table"
   ]
  },
  {
   "cell_type": "markdown",
   "metadata": {},
   "source": []
  },
  {
   "cell_type": "code",
   "execution_count": 62,
   "metadata": {},
   "outputs": [
    {
     "data": {
      "text/plain": [
       "0   0 days 09:27:39.480000\n",
       "1   0 days 15:17:17.480000\n",
       "2   0 days 16:49:00.480000\n",
       "3   0 days 18:22:05.480000\n",
       "Name: Timestamp, dtype: timedelta64[ns]"
      ]
     },
     "execution_count": 62,
     "metadata": {},
     "output_type": "execute_result"
    }
   ],
   "source": [
    "start_time = hr_hosp['timestamp'].iloc[0]\n",
    "patient_class.seizure_table['Timestamp'] - start_time"
   ]
  },
  {
   "cell_type": "code",
   "execution_count": 63,
   "metadata": {},
   "outputs": [
    {
     "name": "stdout",
     "output_type": "stream",
     "text": [
      "SEIZURE DURATION\n",
      "63.0\n",
      "63.0\n",
      "63.0\n",
      "63.0\n"
     ]
    }
   ],
   "source": [
    "print('SEIZURE DURATION')\n",
    "for sidx in patient_class.seizure_table.index:\n",
    "    try:\n",
    "        end_seizure = datetime.combine(patient_class.seizure_table.loc[sidx, 'Data'], patient_class.seizure_table.loc[sidx, 'Fim'])\n",
    "        print((end_seizure - patient_class.seizure_table.loc[sidx, 'Timestamp']).total_seconds())\n",
    "    except:\n",
    "        print('no end time')"
   ]
  },
  {
   "cell_type": "code",
   "execution_count": 69,
   "metadata": {},
   "outputs": [
    {
     "data": {
      "text/plain": [
       "hr                           101.867572\n",
       "timestamp    2022-08-10 10:22:10.670432\n",
       "dtype: object"
      ]
     },
     "execution_count": 69,
     "metadata": {},
     "output_type": "execute_result"
    }
   ],
   "source": [
    "hr_wear.median()"
   ]
  },
  {
   "cell_type": "code",
   "execution_count": null,
   "metadata": {},
   "outputs": [],
   "source": []
  }
 ],
 "metadata": {
  "kernelspec": {
   "display_name": ".venv",
   "language": "python",
   "name": "python3"
  },
  "language_info": {
   "codemirror_mode": {
    "name": "ipython",
    "version": 3
   },
   "file_extension": ".py",
   "mimetype": "text/x-python",
   "name": "python",
   "nbconvert_exporter": "python",
   "pygments_lexer": "ipython3",
   "version": "3.11.6"
  },
  "orig_nbformat": 4
 },
 "nbformat": 4,
 "nbformat_minor": 2
}
